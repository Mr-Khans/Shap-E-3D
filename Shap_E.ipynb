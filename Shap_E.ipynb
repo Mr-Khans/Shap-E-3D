{
  "nbformat": 4,
  "nbformat_minor": 0,
  "metadata": {
    "colab": {
      "provenance": [],
      "gpuType": "T4"
    },
    "kernelspec": {
      "name": "python3",
      "display_name": "Python 3"
    },
    "language_info": {
      "name": "python"
    },
    "accelerator": "GPU",
    "gpuClass": "standard",
    "widgets": {
      "application/vnd.jupyter.widget-state+json": {
        "7c3e4c7b8ad141e0845cc39eed392d2a": {
          "model_module": "@jupyter-widgets/controls",
          "model_name": "HBoxModel",
          "model_module_version": "1.5.0",
          "state": {
            "_dom_classes": [],
            "_model_module": "@jupyter-widgets/controls",
            "_model_module_version": "1.5.0",
            "_model_name": "HBoxModel",
            "_view_count": null,
            "_view_module": "@jupyter-widgets/controls",
            "_view_module_version": "1.5.0",
            "_view_name": "HBoxView",
            "box_style": "",
            "children": [
              "IPY_MODEL_881bd41eb2b34078a32ca66717a63560",
              "IPY_MODEL_1dfac214fb73465685b4d9f6eb5f438c",
              "IPY_MODEL_b8b83de050194556b232403f58b70cc1"
            ],
            "layout": "IPY_MODEL_d90d7fc99f0746e2be74e8228e129e93"
          }
        },
        "881bd41eb2b34078a32ca66717a63560": {
          "model_module": "@jupyter-widgets/controls",
          "model_name": "HTMLModel",
          "model_module_version": "1.5.0",
          "state": {
            "_dom_classes": [],
            "_model_module": "@jupyter-widgets/controls",
            "_model_module_version": "1.5.0",
            "_model_name": "HTMLModel",
            "_view_count": null,
            "_view_module": "@jupyter-widgets/controls",
            "_view_module_version": "1.5.0",
            "_view_name": "HTMLView",
            "description": "",
            "description_tooltip": null,
            "layout": "IPY_MODEL_b1d3c660b5cc49e0b043a89ae6a02631",
            "placeholder": "​",
            "style": "IPY_MODEL_8d0e1489d7334b19bc4c02034248398c",
            "value": "100%"
          }
        },
        "1dfac214fb73465685b4d9f6eb5f438c": {
          "model_module": "@jupyter-widgets/controls",
          "model_name": "FloatProgressModel",
          "model_module_version": "1.5.0",
          "state": {
            "_dom_classes": [],
            "_model_module": "@jupyter-widgets/controls",
            "_model_module_version": "1.5.0",
            "_model_name": "FloatProgressModel",
            "_view_count": null,
            "_view_module": "@jupyter-widgets/controls",
            "_view_module_version": "1.5.0",
            "_view_name": "ProgressView",
            "bar_style": "success",
            "description": "",
            "description_tooltip": null,
            "layout": "IPY_MODEL_466c8ce8b888456581fc0b11955243d9",
            "max": 1776048343,
            "min": 0,
            "orientation": "horizontal",
            "style": "IPY_MODEL_59f1cdedf5b84f2e8cb447a6256ee2e4",
            "value": 1776048343
          }
        },
        "b8b83de050194556b232403f58b70cc1": {
          "model_module": "@jupyter-widgets/controls",
          "model_name": "HTMLModel",
          "model_module_version": "1.5.0",
          "state": {
            "_dom_classes": [],
            "_model_module": "@jupyter-widgets/controls",
            "_model_module_version": "1.5.0",
            "_model_name": "HTMLModel",
            "_view_count": null,
            "_view_module": "@jupyter-widgets/controls",
            "_view_module_version": "1.5.0",
            "_view_name": "HTMLView",
            "description": "",
            "description_tooltip": null,
            "layout": "IPY_MODEL_d7488bdc6bea4d34ad78db7221ad17f6",
            "placeholder": "​",
            "style": "IPY_MODEL_76cad754825d44e29651eba65c81d66b",
            "value": " 1.78G/1.78G [00:13&lt;00:00, 130MiB/s]"
          }
        },
        "d90d7fc99f0746e2be74e8228e129e93": {
          "model_module": "@jupyter-widgets/base",
          "model_name": "LayoutModel",
          "model_module_version": "1.2.0",
          "state": {
            "_model_module": "@jupyter-widgets/base",
            "_model_module_version": "1.2.0",
            "_model_name": "LayoutModel",
            "_view_count": null,
            "_view_module": "@jupyter-widgets/base",
            "_view_module_version": "1.2.0",
            "_view_name": "LayoutView",
            "align_content": null,
            "align_items": null,
            "align_self": null,
            "border": null,
            "bottom": null,
            "display": null,
            "flex": null,
            "flex_flow": null,
            "grid_area": null,
            "grid_auto_columns": null,
            "grid_auto_flow": null,
            "grid_auto_rows": null,
            "grid_column": null,
            "grid_gap": null,
            "grid_row": null,
            "grid_template_areas": null,
            "grid_template_columns": null,
            "grid_template_rows": null,
            "height": null,
            "justify_content": null,
            "justify_items": null,
            "left": null,
            "margin": null,
            "max_height": null,
            "max_width": null,
            "min_height": null,
            "min_width": null,
            "object_fit": null,
            "object_position": null,
            "order": null,
            "overflow": null,
            "overflow_x": null,
            "overflow_y": null,
            "padding": null,
            "right": null,
            "top": null,
            "visibility": null,
            "width": null
          }
        },
        "b1d3c660b5cc49e0b043a89ae6a02631": {
          "model_module": "@jupyter-widgets/base",
          "model_name": "LayoutModel",
          "model_module_version": "1.2.0",
          "state": {
            "_model_module": "@jupyter-widgets/base",
            "_model_module_version": "1.2.0",
            "_model_name": "LayoutModel",
            "_view_count": null,
            "_view_module": "@jupyter-widgets/base",
            "_view_module_version": "1.2.0",
            "_view_name": "LayoutView",
            "align_content": null,
            "align_items": null,
            "align_self": null,
            "border": null,
            "bottom": null,
            "display": null,
            "flex": null,
            "flex_flow": null,
            "grid_area": null,
            "grid_auto_columns": null,
            "grid_auto_flow": null,
            "grid_auto_rows": null,
            "grid_column": null,
            "grid_gap": null,
            "grid_row": null,
            "grid_template_areas": null,
            "grid_template_columns": null,
            "grid_template_rows": null,
            "height": null,
            "justify_content": null,
            "justify_items": null,
            "left": null,
            "margin": null,
            "max_height": null,
            "max_width": null,
            "min_height": null,
            "min_width": null,
            "object_fit": null,
            "object_position": null,
            "order": null,
            "overflow": null,
            "overflow_x": null,
            "overflow_y": null,
            "padding": null,
            "right": null,
            "top": null,
            "visibility": null,
            "width": null
          }
        },
        "8d0e1489d7334b19bc4c02034248398c": {
          "model_module": "@jupyter-widgets/controls",
          "model_name": "DescriptionStyleModel",
          "model_module_version": "1.5.0",
          "state": {
            "_model_module": "@jupyter-widgets/controls",
            "_model_module_version": "1.5.0",
            "_model_name": "DescriptionStyleModel",
            "_view_count": null,
            "_view_module": "@jupyter-widgets/base",
            "_view_module_version": "1.2.0",
            "_view_name": "StyleView",
            "description_width": ""
          }
        },
        "466c8ce8b888456581fc0b11955243d9": {
          "model_module": "@jupyter-widgets/base",
          "model_name": "LayoutModel",
          "model_module_version": "1.2.0",
          "state": {
            "_model_module": "@jupyter-widgets/base",
            "_model_module_version": "1.2.0",
            "_model_name": "LayoutModel",
            "_view_count": null,
            "_view_module": "@jupyter-widgets/base",
            "_view_module_version": "1.2.0",
            "_view_name": "LayoutView",
            "align_content": null,
            "align_items": null,
            "align_self": null,
            "border": null,
            "bottom": null,
            "display": null,
            "flex": null,
            "flex_flow": null,
            "grid_area": null,
            "grid_auto_columns": null,
            "grid_auto_flow": null,
            "grid_auto_rows": null,
            "grid_column": null,
            "grid_gap": null,
            "grid_row": null,
            "grid_template_areas": null,
            "grid_template_columns": null,
            "grid_template_rows": null,
            "height": null,
            "justify_content": null,
            "justify_items": null,
            "left": null,
            "margin": null,
            "max_height": null,
            "max_width": null,
            "min_height": null,
            "min_width": null,
            "object_fit": null,
            "object_position": null,
            "order": null,
            "overflow": null,
            "overflow_x": null,
            "overflow_y": null,
            "padding": null,
            "right": null,
            "top": null,
            "visibility": null,
            "width": null
          }
        },
        "59f1cdedf5b84f2e8cb447a6256ee2e4": {
          "model_module": "@jupyter-widgets/controls",
          "model_name": "ProgressStyleModel",
          "model_module_version": "1.5.0",
          "state": {
            "_model_module": "@jupyter-widgets/controls",
            "_model_module_version": "1.5.0",
            "_model_name": "ProgressStyleModel",
            "_view_count": null,
            "_view_module": "@jupyter-widgets/base",
            "_view_module_version": "1.2.0",
            "_view_name": "StyleView",
            "bar_color": null,
            "description_width": ""
          }
        },
        "d7488bdc6bea4d34ad78db7221ad17f6": {
          "model_module": "@jupyter-widgets/base",
          "model_name": "LayoutModel",
          "model_module_version": "1.2.0",
          "state": {
            "_model_module": "@jupyter-widgets/base",
            "_model_module_version": "1.2.0",
            "_model_name": "LayoutModel",
            "_view_count": null,
            "_view_module": "@jupyter-widgets/base",
            "_view_module_version": "1.2.0",
            "_view_name": "LayoutView",
            "align_content": null,
            "align_items": null,
            "align_self": null,
            "border": null,
            "bottom": null,
            "display": null,
            "flex": null,
            "flex_flow": null,
            "grid_area": null,
            "grid_auto_columns": null,
            "grid_auto_flow": null,
            "grid_auto_rows": null,
            "grid_column": null,
            "grid_gap": null,
            "grid_row": null,
            "grid_template_areas": null,
            "grid_template_columns": null,
            "grid_template_rows": null,
            "height": null,
            "justify_content": null,
            "justify_items": null,
            "left": null,
            "margin": null,
            "max_height": null,
            "max_width": null,
            "min_height": null,
            "min_width": null,
            "object_fit": null,
            "object_position": null,
            "order": null,
            "overflow": null,
            "overflow_x": null,
            "overflow_y": null,
            "padding": null,
            "right": null,
            "top": null,
            "visibility": null,
            "width": null
          }
        },
        "76cad754825d44e29651eba65c81d66b": {
          "model_module": "@jupyter-widgets/controls",
          "model_name": "DescriptionStyleModel",
          "model_module_version": "1.5.0",
          "state": {
            "_model_module": "@jupyter-widgets/controls",
            "_model_module_version": "1.5.0",
            "_model_name": "DescriptionStyleModel",
            "_view_count": null,
            "_view_module": "@jupyter-widgets/base",
            "_view_module_version": "1.2.0",
            "_view_name": "StyleView",
            "description_width": ""
          }
        },
        "93a11f13423f4fb8aa1edd603b7e6c37": {
          "model_module": "@jupyter-widgets/controls",
          "model_name": "HBoxModel",
          "model_module_version": "1.5.0",
          "state": {
            "_dom_classes": [],
            "_model_module": "@jupyter-widgets/controls",
            "_model_module_version": "1.5.0",
            "_model_name": "HBoxModel",
            "_view_count": null,
            "_view_module": "@jupyter-widgets/controls",
            "_view_module_version": "1.5.0",
            "_view_name": "HBoxView",
            "box_style": "",
            "children": [
              "IPY_MODEL_68e23fdb6d034e7f8cef2cfa761e3d5c",
              "IPY_MODEL_1a19b5de4f644ea7b7c53f3bd98e15da",
              "IPY_MODEL_c66bad1f29744fc6b64d982a97efda7f"
            ],
            "layout": "IPY_MODEL_6a459642dfdf4941bb8c9a3674105762"
          }
        },
        "68e23fdb6d034e7f8cef2cfa761e3d5c": {
          "model_module": "@jupyter-widgets/controls",
          "model_name": "HTMLModel",
          "model_module_version": "1.5.0",
          "state": {
            "_dom_classes": [],
            "_model_module": "@jupyter-widgets/controls",
            "_model_module_version": "1.5.0",
            "_model_name": "HTMLModel",
            "_view_count": null,
            "_view_module": "@jupyter-widgets/controls",
            "_view_module_version": "1.5.0",
            "_view_name": "HTMLView",
            "description": "",
            "description_tooltip": null,
            "layout": "IPY_MODEL_b8665bfec02548b69d6ee5a43832bd97",
            "placeholder": "​",
            "style": "IPY_MODEL_ef89e30e27b6480e8a81d6ab32499c0c",
            "value": "100%"
          }
        },
        "1a19b5de4f644ea7b7c53f3bd98e15da": {
          "model_module": "@jupyter-widgets/controls",
          "model_name": "FloatProgressModel",
          "model_module_version": "1.5.0",
          "state": {
            "_dom_classes": [],
            "_model_module": "@jupyter-widgets/controls",
            "_model_module_version": "1.5.0",
            "_model_name": "FloatProgressModel",
            "_view_count": null,
            "_view_module": "@jupyter-widgets/controls",
            "_view_module_version": "1.5.0",
            "_view_name": "ProgressView",
            "bar_style": "success",
            "description": "",
            "description_tooltip": null,
            "layout": "IPY_MODEL_600010075482408eb192f07c5d4016df",
            "max": 1263925407,
            "min": 0,
            "orientation": "horizontal",
            "style": "IPY_MODEL_3ce9815c542b416890dcfbe04634b49e",
            "value": 1263925407
          }
        },
        "c66bad1f29744fc6b64d982a97efda7f": {
          "model_module": "@jupyter-widgets/controls",
          "model_name": "HTMLModel",
          "model_module_version": "1.5.0",
          "state": {
            "_dom_classes": [],
            "_model_module": "@jupyter-widgets/controls",
            "_model_module_version": "1.5.0",
            "_model_name": "HTMLModel",
            "_view_count": null,
            "_view_module": "@jupyter-widgets/controls",
            "_view_module_version": "1.5.0",
            "_view_name": "HTMLView",
            "description": "",
            "description_tooltip": null,
            "layout": "IPY_MODEL_b5dbe8d48b84474495fb444f53e41860",
            "placeholder": "​",
            "style": "IPY_MODEL_1b33d08593a54e65a9376728f665da85",
            "value": " 1.26G/1.26G [01:14&lt;00:00, 16.5MiB/s]"
          }
        },
        "6a459642dfdf4941bb8c9a3674105762": {
          "model_module": "@jupyter-widgets/base",
          "model_name": "LayoutModel",
          "model_module_version": "1.2.0",
          "state": {
            "_model_module": "@jupyter-widgets/base",
            "_model_module_version": "1.2.0",
            "_model_name": "LayoutModel",
            "_view_count": null,
            "_view_module": "@jupyter-widgets/base",
            "_view_module_version": "1.2.0",
            "_view_name": "LayoutView",
            "align_content": null,
            "align_items": null,
            "align_self": null,
            "border": null,
            "bottom": null,
            "display": null,
            "flex": null,
            "flex_flow": null,
            "grid_area": null,
            "grid_auto_columns": null,
            "grid_auto_flow": null,
            "grid_auto_rows": null,
            "grid_column": null,
            "grid_gap": null,
            "grid_row": null,
            "grid_template_areas": null,
            "grid_template_columns": null,
            "grid_template_rows": null,
            "height": null,
            "justify_content": null,
            "justify_items": null,
            "left": null,
            "margin": null,
            "max_height": null,
            "max_width": null,
            "min_height": null,
            "min_width": null,
            "object_fit": null,
            "object_position": null,
            "order": null,
            "overflow": null,
            "overflow_x": null,
            "overflow_y": null,
            "padding": null,
            "right": null,
            "top": null,
            "visibility": null,
            "width": null
          }
        },
        "b8665bfec02548b69d6ee5a43832bd97": {
          "model_module": "@jupyter-widgets/base",
          "model_name": "LayoutModel",
          "model_module_version": "1.2.0",
          "state": {
            "_model_module": "@jupyter-widgets/base",
            "_model_module_version": "1.2.0",
            "_model_name": "LayoutModel",
            "_view_count": null,
            "_view_module": "@jupyter-widgets/base",
            "_view_module_version": "1.2.0",
            "_view_name": "LayoutView",
            "align_content": null,
            "align_items": null,
            "align_self": null,
            "border": null,
            "bottom": null,
            "display": null,
            "flex": null,
            "flex_flow": null,
            "grid_area": null,
            "grid_auto_columns": null,
            "grid_auto_flow": null,
            "grid_auto_rows": null,
            "grid_column": null,
            "grid_gap": null,
            "grid_row": null,
            "grid_template_areas": null,
            "grid_template_columns": null,
            "grid_template_rows": null,
            "height": null,
            "justify_content": null,
            "justify_items": null,
            "left": null,
            "margin": null,
            "max_height": null,
            "max_width": null,
            "min_height": null,
            "min_width": null,
            "object_fit": null,
            "object_position": null,
            "order": null,
            "overflow": null,
            "overflow_x": null,
            "overflow_y": null,
            "padding": null,
            "right": null,
            "top": null,
            "visibility": null,
            "width": null
          }
        },
        "ef89e30e27b6480e8a81d6ab32499c0c": {
          "model_module": "@jupyter-widgets/controls",
          "model_name": "DescriptionStyleModel",
          "model_module_version": "1.5.0",
          "state": {
            "_model_module": "@jupyter-widgets/controls",
            "_model_module_version": "1.5.0",
            "_model_name": "DescriptionStyleModel",
            "_view_count": null,
            "_view_module": "@jupyter-widgets/base",
            "_view_module_version": "1.2.0",
            "_view_name": "StyleView",
            "description_width": ""
          }
        },
        "600010075482408eb192f07c5d4016df": {
          "model_module": "@jupyter-widgets/base",
          "model_name": "LayoutModel",
          "model_module_version": "1.2.0",
          "state": {
            "_model_module": "@jupyter-widgets/base",
            "_model_module_version": "1.2.0",
            "_model_name": "LayoutModel",
            "_view_count": null,
            "_view_module": "@jupyter-widgets/base",
            "_view_module_version": "1.2.0",
            "_view_name": "LayoutView",
            "align_content": null,
            "align_items": null,
            "align_self": null,
            "border": null,
            "bottom": null,
            "display": null,
            "flex": null,
            "flex_flow": null,
            "grid_area": null,
            "grid_auto_columns": null,
            "grid_auto_flow": null,
            "grid_auto_rows": null,
            "grid_column": null,
            "grid_gap": null,
            "grid_row": null,
            "grid_template_areas": null,
            "grid_template_columns": null,
            "grid_template_rows": null,
            "height": null,
            "justify_content": null,
            "justify_items": null,
            "left": null,
            "margin": null,
            "max_height": null,
            "max_width": null,
            "min_height": null,
            "min_width": null,
            "object_fit": null,
            "object_position": null,
            "order": null,
            "overflow": null,
            "overflow_x": null,
            "overflow_y": null,
            "padding": null,
            "right": null,
            "top": null,
            "visibility": null,
            "width": null
          }
        },
        "3ce9815c542b416890dcfbe04634b49e": {
          "model_module": "@jupyter-widgets/controls",
          "model_name": "ProgressStyleModel",
          "model_module_version": "1.5.0",
          "state": {
            "_model_module": "@jupyter-widgets/controls",
            "_model_module_version": "1.5.0",
            "_model_name": "ProgressStyleModel",
            "_view_count": null,
            "_view_module": "@jupyter-widgets/base",
            "_view_module_version": "1.2.0",
            "_view_name": "StyleView",
            "bar_color": null,
            "description_width": ""
          }
        },
        "b5dbe8d48b84474495fb444f53e41860": {
          "model_module": "@jupyter-widgets/base",
          "model_name": "LayoutModel",
          "model_module_version": "1.2.0",
          "state": {
            "_model_module": "@jupyter-widgets/base",
            "_model_module_version": "1.2.0",
            "_model_name": "LayoutModel",
            "_view_count": null,
            "_view_module": "@jupyter-widgets/base",
            "_view_module_version": "1.2.0",
            "_view_name": "LayoutView",
            "align_content": null,
            "align_items": null,
            "align_self": null,
            "border": null,
            "bottom": null,
            "display": null,
            "flex": null,
            "flex_flow": null,
            "grid_area": null,
            "grid_auto_columns": null,
            "grid_auto_flow": null,
            "grid_auto_rows": null,
            "grid_column": null,
            "grid_gap": null,
            "grid_row": null,
            "grid_template_areas": null,
            "grid_template_columns": null,
            "grid_template_rows": null,
            "height": null,
            "justify_content": null,
            "justify_items": null,
            "left": null,
            "margin": null,
            "max_height": null,
            "max_width": null,
            "min_height": null,
            "min_width": null,
            "object_fit": null,
            "object_position": null,
            "order": null,
            "overflow": null,
            "overflow_x": null,
            "overflow_y": null,
            "padding": null,
            "right": null,
            "top": null,
            "visibility": null,
            "width": null
          }
        },
        "1b33d08593a54e65a9376728f665da85": {
          "model_module": "@jupyter-widgets/controls",
          "model_name": "DescriptionStyleModel",
          "model_module_version": "1.5.0",
          "state": {
            "_model_module": "@jupyter-widgets/controls",
            "_model_module_version": "1.5.0",
            "_model_name": "DescriptionStyleModel",
            "_view_count": null,
            "_view_module": "@jupyter-widgets/base",
            "_view_module_version": "1.2.0",
            "_view_name": "StyleView",
            "description_width": ""
          }
        },
        "c8cf1be5964944f5ae9131febf8a2ffb": {
          "model_module": "@jupyter-widgets/controls",
          "model_name": "HBoxModel",
          "model_module_version": "1.5.0",
          "state": {
            "_dom_classes": [],
            "_model_module": "@jupyter-widgets/controls",
            "_model_module_version": "1.5.0",
            "_model_name": "HBoxModel",
            "_view_count": null,
            "_view_module": "@jupyter-widgets/controls",
            "_view_module_version": "1.5.0",
            "_view_name": "HBoxView",
            "box_style": "",
            "children": [
              "IPY_MODEL_63753b4f7eac4c47971f0ef6a59a3c9c",
              "IPY_MODEL_79c1c8ae8d7d4170979748c77e3dd5ad",
              "IPY_MODEL_8dae1ae2e0464a6098932d28443ac6a7"
            ],
            "layout": "IPY_MODEL_628ed5fbabc94ed2a2976c50fe326f4f"
          }
        },
        "63753b4f7eac4c47971f0ef6a59a3c9c": {
          "model_module": "@jupyter-widgets/controls",
          "model_name": "HTMLModel",
          "model_module_version": "1.5.0",
          "state": {
            "_dom_classes": [],
            "_model_module": "@jupyter-widgets/controls",
            "_model_module_version": "1.5.0",
            "_model_name": "HTMLModel",
            "_view_count": null,
            "_view_module": "@jupyter-widgets/controls",
            "_view_module_version": "1.5.0",
            "_view_name": "HTMLView",
            "description": "",
            "description_tooltip": null,
            "layout": "IPY_MODEL_b99bb3e12eed4f26b1bf366b51be0a6e",
            "placeholder": "​",
            "style": "IPY_MODEL_0e56935666974cd0b882d3f5607b6309",
            "value": "100%"
          }
        },
        "79c1c8ae8d7d4170979748c77e3dd5ad": {
          "model_module": "@jupyter-widgets/controls",
          "model_name": "FloatProgressModel",
          "model_module_version": "1.5.0",
          "state": {
            "_dom_classes": [],
            "_model_module": "@jupyter-widgets/controls",
            "_model_module_version": "1.5.0",
            "_model_name": "FloatProgressModel",
            "_view_count": null,
            "_view_module": "@jupyter-widgets/controls",
            "_view_module_version": "1.5.0",
            "_view_name": "ProgressView",
            "bar_style": "success",
            "description": "",
            "description_tooltip": null,
            "layout": "IPY_MODEL_82b67ce5d0294d9ab0a46a98c9bdf7c7",
            "max": 64,
            "min": 0,
            "orientation": "horizontal",
            "style": "IPY_MODEL_b29f4e20914d4f6d8e18a5675e6bc6e4",
            "value": 64
          }
        },
        "8dae1ae2e0464a6098932d28443ac6a7": {
          "model_module": "@jupyter-widgets/controls",
          "model_name": "HTMLModel",
          "model_module_version": "1.5.0",
          "state": {
            "_dom_classes": [],
            "_model_module": "@jupyter-widgets/controls",
            "_model_module_version": "1.5.0",
            "_model_name": "HTMLModel",
            "_view_count": null,
            "_view_module": "@jupyter-widgets/controls",
            "_view_module_version": "1.5.0",
            "_view_name": "HTMLView",
            "description": "",
            "description_tooltip": null,
            "layout": "IPY_MODEL_13d2de781a544acbbcbaf71d01ac7a92",
            "placeholder": "​",
            "style": "IPY_MODEL_1d03764df11846099bc97e1c6d67d08a",
            "value": " 64/64 [11:15&lt;00:00,  9.01s/it]"
          }
        },
        "628ed5fbabc94ed2a2976c50fe326f4f": {
          "model_module": "@jupyter-widgets/base",
          "model_name": "LayoutModel",
          "model_module_version": "1.2.0",
          "state": {
            "_model_module": "@jupyter-widgets/base",
            "_model_module_version": "1.2.0",
            "_model_name": "LayoutModel",
            "_view_count": null,
            "_view_module": "@jupyter-widgets/base",
            "_view_module_version": "1.2.0",
            "_view_name": "LayoutView",
            "align_content": null,
            "align_items": null,
            "align_self": null,
            "border": null,
            "bottom": null,
            "display": null,
            "flex": null,
            "flex_flow": null,
            "grid_area": null,
            "grid_auto_columns": null,
            "grid_auto_flow": null,
            "grid_auto_rows": null,
            "grid_column": null,
            "grid_gap": null,
            "grid_row": null,
            "grid_template_areas": null,
            "grid_template_columns": null,
            "grid_template_rows": null,
            "height": null,
            "justify_content": null,
            "justify_items": null,
            "left": null,
            "margin": null,
            "max_height": null,
            "max_width": null,
            "min_height": null,
            "min_width": null,
            "object_fit": null,
            "object_position": null,
            "order": null,
            "overflow": null,
            "overflow_x": null,
            "overflow_y": null,
            "padding": null,
            "right": null,
            "top": null,
            "visibility": null,
            "width": null
          }
        },
        "b99bb3e12eed4f26b1bf366b51be0a6e": {
          "model_module": "@jupyter-widgets/base",
          "model_name": "LayoutModel",
          "model_module_version": "1.2.0",
          "state": {
            "_model_module": "@jupyter-widgets/base",
            "_model_module_version": "1.2.0",
            "_model_name": "LayoutModel",
            "_view_count": null,
            "_view_module": "@jupyter-widgets/base",
            "_view_module_version": "1.2.0",
            "_view_name": "LayoutView",
            "align_content": null,
            "align_items": null,
            "align_self": null,
            "border": null,
            "bottom": null,
            "display": null,
            "flex": null,
            "flex_flow": null,
            "grid_area": null,
            "grid_auto_columns": null,
            "grid_auto_flow": null,
            "grid_auto_rows": null,
            "grid_column": null,
            "grid_gap": null,
            "grid_row": null,
            "grid_template_areas": null,
            "grid_template_columns": null,
            "grid_template_rows": null,
            "height": null,
            "justify_content": null,
            "justify_items": null,
            "left": null,
            "margin": null,
            "max_height": null,
            "max_width": null,
            "min_height": null,
            "min_width": null,
            "object_fit": null,
            "object_position": null,
            "order": null,
            "overflow": null,
            "overflow_x": null,
            "overflow_y": null,
            "padding": null,
            "right": null,
            "top": null,
            "visibility": null,
            "width": null
          }
        },
        "0e56935666974cd0b882d3f5607b6309": {
          "model_module": "@jupyter-widgets/controls",
          "model_name": "DescriptionStyleModel",
          "model_module_version": "1.5.0",
          "state": {
            "_model_module": "@jupyter-widgets/controls",
            "_model_module_version": "1.5.0",
            "_model_name": "DescriptionStyleModel",
            "_view_count": null,
            "_view_module": "@jupyter-widgets/base",
            "_view_module_version": "1.2.0",
            "_view_name": "StyleView",
            "description_width": ""
          }
        },
        "82b67ce5d0294d9ab0a46a98c9bdf7c7": {
          "model_module": "@jupyter-widgets/base",
          "model_name": "LayoutModel",
          "model_module_version": "1.2.0",
          "state": {
            "_model_module": "@jupyter-widgets/base",
            "_model_module_version": "1.2.0",
            "_model_name": "LayoutModel",
            "_view_count": null,
            "_view_module": "@jupyter-widgets/base",
            "_view_module_version": "1.2.0",
            "_view_name": "LayoutView",
            "align_content": null,
            "align_items": null,
            "align_self": null,
            "border": null,
            "bottom": null,
            "display": null,
            "flex": null,
            "flex_flow": null,
            "grid_area": null,
            "grid_auto_columns": null,
            "grid_auto_flow": null,
            "grid_auto_rows": null,
            "grid_column": null,
            "grid_gap": null,
            "grid_row": null,
            "grid_template_areas": null,
            "grid_template_columns": null,
            "grid_template_rows": null,
            "height": null,
            "justify_content": null,
            "justify_items": null,
            "left": null,
            "margin": null,
            "max_height": null,
            "max_width": null,
            "min_height": null,
            "min_width": null,
            "object_fit": null,
            "object_position": null,
            "order": null,
            "overflow": null,
            "overflow_x": null,
            "overflow_y": null,
            "padding": null,
            "right": null,
            "top": null,
            "visibility": null,
            "width": null
          }
        },
        "b29f4e20914d4f6d8e18a5675e6bc6e4": {
          "model_module": "@jupyter-widgets/controls",
          "model_name": "ProgressStyleModel",
          "model_module_version": "1.5.0",
          "state": {
            "_model_module": "@jupyter-widgets/controls",
            "_model_module_version": "1.5.0",
            "_model_name": "ProgressStyleModel",
            "_view_count": null,
            "_view_module": "@jupyter-widgets/base",
            "_view_module_version": "1.2.0",
            "_view_name": "StyleView",
            "bar_color": null,
            "description_width": ""
          }
        },
        "13d2de781a544acbbcbaf71d01ac7a92": {
          "model_module": "@jupyter-widgets/base",
          "model_name": "LayoutModel",
          "model_module_version": "1.2.0",
          "state": {
            "_model_module": "@jupyter-widgets/base",
            "_model_module_version": "1.2.0",
            "_model_name": "LayoutModel",
            "_view_count": null,
            "_view_module": "@jupyter-widgets/base",
            "_view_module_version": "1.2.0",
            "_view_name": "LayoutView",
            "align_content": null,
            "align_items": null,
            "align_self": null,
            "border": null,
            "bottom": null,
            "display": null,
            "flex": null,
            "flex_flow": null,
            "grid_area": null,
            "grid_auto_columns": null,
            "grid_auto_flow": null,
            "grid_auto_rows": null,
            "grid_column": null,
            "grid_gap": null,
            "grid_row": null,
            "grid_template_areas": null,
            "grid_template_columns": null,
            "grid_template_rows": null,
            "height": null,
            "justify_content": null,
            "justify_items": null,
            "left": null,
            "margin": null,
            "max_height": null,
            "max_width": null,
            "min_height": null,
            "min_width": null,
            "object_fit": null,
            "object_position": null,
            "order": null,
            "overflow": null,
            "overflow_x": null,
            "overflow_y": null,
            "padding": null,
            "right": null,
            "top": null,
            "visibility": null,
            "width": null
          }
        },
        "1d03764df11846099bc97e1c6d67d08a": {
          "model_module": "@jupyter-widgets/controls",
          "model_name": "DescriptionStyleModel",
          "model_module_version": "1.5.0",
          "state": {
            "_model_module": "@jupyter-widgets/controls",
            "_model_module_version": "1.5.0",
            "_model_name": "DescriptionStyleModel",
            "_view_count": null,
            "_view_module": "@jupyter-widgets/base",
            "_view_module_version": "1.2.0",
            "_view_name": "StyleView",
            "description_width": ""
          }
        },
        "e47fc456181c40a9854e68e466652fc4": {
          "model_module": "@jupyter-widgets/controls",
          "model_name": "HTMLModel",
          "model_module_version": "1.5.0",
          "state": {
            "_dom_classes": [],
            "_model_module": "@jupyter-widgets/controls",
            "_model_module_version": "1.5.0",
            "_model_name": "HTMLModel",
            "_view_count": null,
            "_view_module": "@jupyter-widgets/controls",
            "_view_module_version": "1.5.0",
            "_view_name": "HTMLView",
            "description": "",
            "description_tooltip": null,
            "layout": "IPY_MODEL_ffe0421960ea4e3392754e1a281bb476",
            "placeholder": "​",
            "style": "IPY_MODEL_4cd54ac6453544a1aac5a2f10f98090f",
            "value": "<img src=\"data:image/gif;base64,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\" />"
          }
        },
        "ffe0421960ea4e3392754e1a281bb476": {
          "model_module": "@jupyter-widgets/base",
          "model_name": "LayoutModel",
          "model_module_version": "1.2.0",
          "state": {
            "_model_module": "@jupyter-widgets/base",
            "_model_module_version": "1.2.0",
            "_model_name": "LayoutModel",
            "_view_count": null,
            "_view_module": "@jupyter-widgets/base",
            "_view_module_version": "1.2.0",
            "_view_name": "LayoutView",
            "align_content": null,
            "align_items": null,
            "align_self": null,
            "border": null,
            "bottom": null,
            "display": null,
            "flex": null,
            "flex_flow": null,
            "grid_area": null,
            "grid_auto_columns": null,
            "grid_auto_flow": null,
            "grid_auto_rows": null,
            "grid_column": null,
            "grid_gap": null,
            "grid_row": null,
            "grid_template_areas": null,
            "grid_template_columns": null,
            "grid_template_rows": null,
            "height": null,
            "justify_content": null,
            "justify_items": null,
            "left": null,
            "margin": null,
            "max_height": null,
            "max_width": null,
            "min_height": null,
            "min_width": null,
            "object_fit": null,
            "object_position": null,
            "order": null,
            "overflow": null,
            "overflow_x": null,
            "overflow_y": null,
            "padding": null,
            "right": null,
            "top": null,
            "visibility": null,
            "width": null
          }
        },
        "4cd54ac6453544a1aac5a2f10f98090f": {
          "model_module": "@jupyter-widgets/controls",
          "model_name": "DescriptionStyleModel",
          "model_module_version": "1.5.0",
          "state": {
            "_model_module": "@jupyter-widgets/controls",
            "_model_module_version": "1.5.0",
            "_model_name": "DescriptionStyleModel",
            "_view_count": null,
            "_view_module": "@jupyter-widgets/base",
            "_view_module_version": "1.2.0",
            "_view_name": "StyleView",
            "description_width": ""
          }
        },
        "94343d0529214ff68b648f5ffb9a6eb1": {
          "model_module": "@jupyter-widgets/controls",
          "model_name": "HTMLModel",
          "model_module_version": "1.5.0",
          "state": {
            "_dom_classes": [],
            "_model_module": "@jupyter-widgets/controls",
            "_model_module_version": "1.5.0",
            "_model_name": "HTMLModel",
            "_view_count": null,
            "_view_module": "@jupyter-widgets/controls",
            "_view_module_version": "1.5.0",
            "_view_name": "HTMLView",
            "description": "",
            "description_tooltip": null,
            "layout": "IPY_MODEL_8f3c63bd1fb04671bcf40b1c1f555080",
            "placeholder": "​",
            "style": "IPY_MODEL_163e0e879d1e4f6cac5db4284427654f",
            "value": "<img src=\"data:image/gif;base64,R0lGODlhgACAAIQAAAAAADMzAGYzAJkzAGZmADMzM2YzM5kzM2ZmM5lmM2YzZpkzZmZmZplmZsxmZpmZZsyZZv/MZmZmmZlmmcxmmZmZmcyZmf+ZmczMmf/Mmf/MzAAAAAAAAAAAAAAAAAAAACH5BAAKAAAAIf8LTkVUU0NBUEUyLjADAQAAACwAAAAAgACAAAAI/wABCBxIsKDBgwgTKlzIsKHDhxAjSpxIsaLFixgzatzIsaPHjyBDihxJsqTJkyhTqlzJsqXLlzBjypxJs6bNmzhz6tzJs6fPn0CDCh1KtKjRo0iTKl3KtKnTp1CjSp1KtarVq1MrVMA6scEDiRq0QuDqsAGDBgYsPLSQwAACs2QZPjAgAEFah3YPGGigNu7CBAIEQGxL4EACv4hdNsDYYHFigo3PWvTK4DHBs2YRHIjY1m1kywK9NkAgIICBh3TrKhANGoDZ0QcEnGZoQbaAAgISIJjwFbTotoARVCb4wMHAxqPpGjjwoG/rBgmii26cgAEEvo2LP0COALgDx8+jQ/+gcL14hQYQJpS3YKH5dq/RHxxuLTCBgu6VIVhIr7+5BQcVOKDfdQ4k0Bh9AxlAVwXOEfQfeABMUEFnBsyHoF10NbCVXGjJ1h2CACio2wEIPFSBiHtBaNlbFUb3UG7AQUffWdEZZiFDCZAYnWStMfDWfS425FZbqyH3nIbXGfjAWApdR10CFbgH2gMM6teYA5gNhACW83kloFfk/bedZRbwtZ9X1+kHGY/IWTlgmQ36hd4DFLyHnlehUTfaaAwYCB2d7cUpZ58B7oknQWoOVF6bdlo2HXT4NdRYd1du11ti41WnZ4kLUWrgW9sxmViUlk66QJ8KzNdnn67Z91ab6A3/hxhmoy3wKaQVNubWfbrmCB9yhqpoFWYI3OcjWroWi8BbzN6XK3Q+LrsnA9SS9eqjoN6Z53hpJqAdsOBWR5ZooaLnQHHlCTRgY2miB8G7d773Hlln0Vnco9qde+6cdcKp4b7/QWDvhlzF2x55XhYKAJ38oYuemPvtV4HAxsXllXoRz2sQegc9PCDCwlqV3XfTLYtXsALzdihW2UaJnH03CnTpcaiiqd6iXFHLLnZ8Gnqcka4Z6id6AZ4nHMvZqWcnsK9uV93Q1VWImXtlOlltVV6V+V57ECx73VskgwsuBNah1296VGKF8XVal0nBQIeB+1W8PJd3bnshYy3wf+zN/wwA2/pVvB17+kks42PInVnmQ2YuiZ4C9O3HANXsVc4eBhdUnnnWYYoKGnv/nudx5pVb6fjEAVpAsGUDMgC6mZkDcGYGDWAAOgMOlDkxBTFzVblABzML7AOWYlYmdfWOpnrh7FGlOeZLAo+cvI5NgF3pW5va3PUZlN4U4RZ0v7Vax2/XZ/M/GzjQBa95C6zsX/Pln6BERUz7nQ3Efty9IXu+vwPqcYyZwAcnwh2FPbRjEAL7BpkH8CYi2RnTcSwnsDShbyiE81jl/Oaa/VTsIUu6IHHMpKESivAnijuYBBHyO4iYyX+QGdnWYMgTwjEsbw4SmAuzhsOfsauFPSldAP97OBAHwuUhZ1lcQ8ZnQJ1U7n4cVMh0DAKB+8TJSStsiPGaeBPX2e59jCsfnrTzqjeJBnQQTEDE6CcT162HjQn5ltnSw53VLG2KLjyPf6IYk9cFKiIMepgAydYm8ugxdytD4nYQcMKZOMkscExI4ehUkMKRbWFrTJREXsOXm2jIQLJSiOoOQr+dOShiFmHWB2lSrAdAriBagaVWQtkkAJmIARUIpYYmsLEj2iSLAtHK6koYpbXQECFa0RDBcLm64+BEiQ0JZCQLciCHeE+LnaSJ6zKCN4OsSliNnAgCLlATr7yyIriD5s/eQk1UXgQ7NJnURRpFTaAV8TUYuQ4tYeL/wIsAETL/BN5+MBLOl/CFUx8Z6EHI+U51yqQxzURhImVSUIhcJyHCshIROcRQppQpiREby0cHaLnIbFSUO5kmAIQpP7wRa35nklYI3fcqRip0N7lsiEpb8kQ4VkACuRQOlsCFgAVk7QEMMIACUoQtk76mWNTiZUIst9OVwJSCsjwPb1aTPJA+6F6gel1jjpcoKsXSIKVD4DFhsrbuWSAClRMWwSCgwIztq3HsocBYC9jNYArKkha4gO2shBNqAY6CfDzOom6EnLAZyEB7qyZGLdc95PDoJqLz6jUV8liDRCc6CAXAZw8nyv1kDosTtQmDQmVaqroGITmaDUFaJFuB6HQnSFQMLPgGex7L7SSQr2nbu9hDuoJUqDu1FW2LCqIXw6DVcpiD03oeoD+eoG5RZ8qffzRZIRsZNwEDwK1oQQsh6pYJsm4kaVVnol6qhsqz4q3PZwtSo94NaHCCxSpRrmq7gDJEsjo1k1v1W5RArXCtHAlf3067XqUwCcEsJKWiEFMB0mUzNADoKOziCiJFxVWyjZMZ29wJGqkOBHtXhKaBG3nSp/ioiOe9bBHP5SDoXFggDJDArCCjxzgdr7xZg+E+/aJbh1YulK7t8IltZxCqVdK/Su7lfzYW0SgjpMVWzrKWt3yQgAAAIfkEAAoAAAAh/wtORVRTQ0FQRTIuMAMBAAAALBgAHgBPAF8AhAAAADMzAGYzAGZmAJlmADMzM2YzM5kzM2ZmM5lmM2YzZpkzZmZmZplmZsxmZpmZZsyZZmZmmZlmmcxmmWaZmZmZmcyZmf+ZmczMmf/MmczMzAAAAAAAAAAAAAAAAAAAAAj/AAEIHEiwoMGDCA9WqJAQgAYLDxowaEixosWLFi1YSGDAQAIJGEOKPNhAIkYGBwYYEDBxpEuREldi5Jjgpc2QDzgiuFkQIs+fCQ78HFjS5NCjNw0gQFAS6dCSDxImECBz4IEAVA0waOD0p0SjBDeurDqQKtUEDLuGPECV6IOtVStAQDBWQIOoAw0MOJCgAQS1GPWurAlga4OpBQonWIDAgl8GTAsmmMwVsMUGWAP0BcD07mEBEKA6iFjUguTNli0yoBrga9HDfSX4laCxgYXQlQXS3Jm6It2sfufCdgzhwe3bxkNL7ki4d0MFdPs+cLA1AYIDxm3/bciRKm/nCadP/07AQDaDjgYwQlDqsXnqhRcXVmDftmKD9geapmYAGeRFjx5dJ0BFevG1VG6WyYYgRQgoYJ2BBeFGkHUJKGCAfuBh1ABT46UHwG0VvAaBaQCURJ4DIWZ4EQIMLLChRwLhBlVEEU3UFwQjbqdihEU9EJoCnoXoIQPFBWeBA8VtVxKIOxIkI2mePSCXAyZCtoBhUDUwgYx3TdDkQCHSeBcEEnxEJkRc4niYZ6NJ1JdfeH0p0W0SQNDmXRXcRmVE220VkU5vIvCmX19+CGJoxJVkZ1oEbVgSh/fhCORdVBbaWGdMZbpTBQ64t2GFj/p1nHWHMRBRoa8VtdiaTLV0mIUJQP+paKiZAikniyOSNuijTCl1gKB+OQrna52Rt6Obs9624YEVatpeqtMlOuxdGcpVEmQiGgYZA29SyZEBOQYXoqIRHZchfywKm6Vra1IaZ2i4TZekdkfG2Rt/DYTYYGfsegZvsIrKxWmix4Wr4kLkkXetmPyGymeJiHIla2mnZsjUpAkU55iPUOVIUWgccstxaC2BR212fk7go7IWReQglnJJUHGh0t0lm2MLjhsVsZkqSpwEjDaJZWjTLevAQBBwC2RofYG6J6VBN/lauaRtZRiXs2b5QLmFNuoojSo71nTD053qmW0aVdq1QF+R5qNsWytQIlciYtgAko6tPZCfG0//MGawPC440Mx6mwoRceVq1JOUOurdENoAQDCuAyQW1ECdlTv+oUAWXKBRBgxohHOuB0FkW8lEKZdh5xph8PeIpko0Ir2im15UZ2Fd21vtOGrkuee1oU2m5LNvxZS0RRF1GOFIfU5c5x9mULtGEcmF5QNwo127o6KXSFrjQ20MwZa+myZ6RBmUiK9hNYp6F/C4EY92j4LfpP1x1GNYUMO2Ccv+4VtLVdKWlLmfFEx09TNIBchzm7mZyCD0CyABVWeT2n1oREcLieLYhqcECkRB/ureSz53gZXp7yX4wlHLgEQaDBQwI74LTQUu4BTtlQ5BG1nShjaYkRFlgGg8HMpW/0ZUkeNQLVQvLF3nXFc7e3mlegYBmc+Kwi2JYAl1CGldApqoFkohSFaNmVYDZYfF0l2AicmxzOWg9IAtXUthI9LIiNKyxs0lpGCUS+JRiDSucOVwg/hzDKMYYpsszi5v93JfnLZyJAQtxDgGaUwStXdCtRjHXKkjVE+C6BYlXgB8qRFhWMDnwRKJ0lDHoZbe8rVJC3zHcogEgFws4MIaOW5NTmIZSSgYurQR6Sbyscm1XlmY5CmkIKFDVBkxspAGUKCUHyqk5YxJFE6GBZZSgmZDmlkBSDYkVwtK3Eg8N5AwHoaZYAEA0CxAG4pgCZagBKUdP+RCEtlGK8fypuU2qf+7wfEHc8CrDIu+pMdR4uxsdFMAA/LkwscIZCua4xyLeLehSUFyoXnq3FtyU8neaBIAeUyaR/72orNxDgJnVFYQfQKe4PEOZw0qDQNQNMewyDFEBQydNnlSG+PFKn90aVAc44izgXgOpcQxiJ92lzSFMWBpOMOc5F6DGqI2tIEKXJJTqGe69pkoeLMzJgTGY6ij3g8hfCtoSBbCHwVgrzPGyY5uVEUQA/wKOwE1TkoTAhmF7rQiFKhAeUyFItvkSW0DIWs5+TIZuVwSkwnpkjxf8kgO3u2cdQ2KewSgWNF9Uq0DsaZaJuOhxALIPe6ZJ0bidMm/ZHCygaFQQTxCgNS89gS2FpmABaTXuunhNiGnLe1c79Xa3b4UqyEZj20NUr6j5IuAx0mpb30L3IuwLpYCQUAEUGg1c0aXqKz73QNo+BI4JaeA27VJM7WmMqrFyzOghWBtAJAdlcZXg3kaF7vAK8eCgtdryHWgj2o4y+rx17j1jKzvVkYQBofWeZYJ5PSs+9+wGAZpGW1pXJGDEY1kjJjvi5rkIvpNnEWtjZz86474U9qSzNJyciVxQuBj0xR3VMYUES2OdyyQgAAAIfkEAAoAAAAh/wtORVRTQ0FQRTIuMAMBAAAALBgAHABTAGAAhAAAADMzAGYzAGZmAJlmAGYzM5kzM2ZmM5lmM2YzZpkzZmZmZplmZsxmZmaZZpmZZsyZZv+ZZszMZmZmmZlmmcxmmWaZmZmZmcyZmf+ZmczMmf/MmZmZzAAAAAAAAAAAAAj/AAEIHEiwoMGDCBMqPIiBAYOFECNKnBgRwwUGAg48pMix48ALFDwCYPCgwIECCESqXAngQciFDBAYICDRJcubAh1qxJnT4QOeKi9cLFCAp4EBRBcAVRkTwQCIKRUiEFBAQACUS7MWlLkAY8ICV6kSOKC1LAYECx4wIJvQqgEECBqUXYqhYQEGXRc02HgQZdS5HP8WxHBALVqHGH8iNCkYcEQEVYsaTJDhQQKNXXcehIzVsUQGkakKZgBB7YEEJBE03AyXqueKC6pexYyAZFcMDR7ARQAhIVyibF8rxHsgrEmSDHA/wLC8M8K1ROHyFX4QL1GqJhskANAYQQLJrFEa/9BM/aLBmCgPvP16EnzByyYNFOhNvat5ghcw0B+O4GR/hNIhkB91AoEk0lqXjdfYQHeRJheBKzW01loy+UYSBkBd0FVZENg2oQIIPNChQRo1cAFPeZ2oVWaoMXDRA3upVZBPD+I0XUcjTlfaWXg5pB8DuSFGkEa1KQahQRBc5JORDnU44QMXdHjAAdINBIFGTR45WJI+AcmkQ10l+aNDkG0EAQQN1UaclgIth1hpuVWg1og5HWBiAwtoVIGTAgI5IZY3UtdjWntG2WGHSnXYH2mITQhmbaU1ShKbANSlH4wQUHDYcTF9h5hhXSF3nH5nwknphR4CWptG/k3oJElnYv/o4ANyNsAcpSNZplNyEOh1GqRqhVqkXKTBSFJuDWFIKZ95knZBbgvUVlevFIYqI2kUiFgrmg6d2uwBCgDaJK8xCctoh3MGSRyjWqrVUF6OxtRTqF2q1WQDSQZJZVcPQAmhUHgdNiVqGql4AL3BNrkfo9G2iAAF+1GHmb1qJaCmiAMtEClyZw70EKOs2vmslgtQsIBFOh18QIcP1pucrQL9SKukEipLqcoKCEkQci4i+xBzuzLKqH64ejypQfZ+CrKfSitsc9HD9ajWcvZGO6eTbUJdU0w0Ppv0QBQEqnVCLq7FL3IN0Vnd2DklO2OPaDubHENqa+3QBUZmTNKzzuL/ixC30bLN80Ea10Vr3jMa1u3YPj1NkIRuit3SpyravZzjlsLaaEH0VQBoxGZxO5B+lma+QH77YdBsftOebPRGd8+tVekxQWx4cnVB6lOolsLo7kh1wXQh6CzVlYEGQ49ZF40+1nWb6k6yPqZGiBOk8eI3WZpBaRUYn2SmaAJvqQbM9dpslxDs6fxh2M8YLcQrMZAB6tprkEHmfmJI8dRhI3YbcvRq1K2QxCMXqWRa+rkf+SDHEbzYayRKusABVNelQE2rfx6pywYSWBfyta8jpXudaRxItIHIpSFTCx9FMLA93FVKQo5hAGoKtxoAUKtYtXLcQhB4gfvBsD7SUsyY/5q0PB0m5EeWKo2W4Ia7tK0lWSqUCJpIV8IjgQk5ImKgSOhXo3ZFq2x40kiyJJcQNGUgOWQUDl7CpCwgdWhaE9Ggu4wIof8py03Aw6NCpng/2UHtQk/jS9LoGDMMeJCQUJNQcCylEO8lp3psQ9R0MLBBA24JeZdjW3U298JpXaRy2sMd8TSZlqOdy0VoqdwUNYCmUVKKOXLaGYb6WLDoyXIDaNSkDTE4mOVxim6Gc4xQKhcRkjxwdJdaiwJcEihe7QUwALPJRFz4widKMpfnmSIiVzJMF0GyIoQBzQEgZiu3VUeDwVuRUEyEo2khaD7IUc0RDZm+D3pEKEpRSb6SOP+UyMElnUjz4Y/yGT9icsR0jfOJnM7yFkoihAKGvB95cNU6koALhXtpSEYM4EoAOICKaaSOfiQoQ5/UZjcj8ctCTLa8RHLpSTYTj0DgApEFFC6kjkEZz1xUQ/EE5zPL6ahnhGKyUKGOLwUYAE0pojQ2CcUCacnJUgWi0kpN5wATINsaKcUBocQsOu7ZCAu3WZANMY5KVDJIsgxJVqO98JvUEU9jdqQonHpMKSQ5I66mGrNK+fBCHjld3XAlP4A2MbCo+cnICFssMw2oI3ADQH7MipMoHpEgX+vJgfK0gMvAb4elq1vpSIeQsbJwZ8vhiXUkS7zRem+02sRABKBoRNx3sXJGAOVJagtyuQ1MUQLojG2slqMaI5bPUoI5mV07QtCcvJF09/vetO53ufENJ3LTWe5NNPQiNCpURC8q3QYqcjCheiYv8MLbFZt4v2kyklKfHOaY7EO7hdh0MH+UnkWoOEXLImQBHNDlQFziJgKbyLwCTjBEAgIAIfkEAAoAAAAh/wtORVRTQ0FQRTIuMAMBAAAALBcAGQBYAGQAhAAAADMzAGYzAJkzAGZmADMzM2YzM5kzM2ZmM5lmM2YzZpkzZmZmZplmZsxmZpmZZsyZZmZmmZlmmcxmmWaZmZmZmcyZmf+ZmczMmf/MmZmZzMzMzAAAAAAAAAAAAAAAAAj/AAEIHEiwoMGDCBMqXAjgAcOHECNKjGjBAoMGEzNq3JjQQoUEBhJIfICRo0mODT4aEBCxgcuSJ2NKTJCAJcQEBwgYQCAzoYQKHB9IOHlAAAIBBgz0RMiAo4UGD5RyDLCyANKlWBtKaIBgQMEDPBPCBIBUgMisWBGAJAihQVmpBF2SHJj0LNq7Ai1AAFk2wdgGDBg4FAjSLt6sFSskRXDgaVPCDBAAxtgAJNzDSy2+bACBJEkIAncqcAmgck21mE/SLCpQsl8LDxxUcDCYrOS5fkEeMJw6Y+WVSjFakAxVb0HJAl3SNBu2d8anNQtQ9SuZAYQJBxm3Nl1gp/PnDyID/0d60SVog7+l7iw89vvD8grKIghZWuxO+gCIO3DvW/z8tQpV1sB9Aing13n8SfRSQXpBhR5XrhHmElAJTmQBQXqRtGBcgI2mHmm9AfbYSRW19QAEej0FgQGRccVZa37VdthFFJ6EAAQS4AgBAzFC5WJKAxHHW4US6XURAg0KiYACF8WGYlvVEbnRkglU5BICE7T1W0pPndiAAzyCKKVCKPoIQJOcaSlXW6VBaZ5ctMXk0UU96fWReQO1xYAByhF35YUgSQbBoJ+dVAGdMj0pF1QOaLnXoiQhB+KSSDaQJXYxMVAjiSm5lOIDGTZgYGwaNgDdY5xZ0KiZYx40mWAqbv/1EkibJXAilADopcCJ1r3YqkEIgGqlhsRJZtROKOolgWTEqblje78mZ6KoCRyZIoYOJPnSoJxNBm20mwHG7AQyCgSqZy9pOJyACEY7EFQtRrortG8uauqV5l3obp4+bubng95C1ZazFe07UAV6+kipXwaV+oBQWrr27a8VPDDBRRdpmYACkumbZ7ycbaWugwaXVgFgnpEr7r0ea1iewC454GvJyQXm0VMuEnfiuyT55ePJND9E3LtivvQyqRixGfRDXA5E7KKzNTjx0gV5mlyni7Zl52RUB1gxTOEhoKmaGiagdNdPMVhcQRc9pe9m1nVdGmDt4ozoQDwOZkG1a8v/je5AUluNULeCd/0y4HLt7bGrJ88lt+CwwWrBBQ2nnVx17S4d3oU4T+1SeQCgeLjcEtCZ+OD4CjcobVNjlWJFFWUAe8GwWS5QeXcjRFJ5DllZ+F0VXeA7Z+hyBXu2snMOr5iD81geBEiCmrmcScMeqamd5SiylrB9bq/zYxV8MMbF4Yzl4iaVaB3OoMo2e/H2cml3dayKRSXCMmNZp17X4Wjl7FsTHGV29zk/SS5X4hNIBRZYmsB4SkNymhxUJgCbHF2oOPVjiLw2dLsYKbBTF9LZvaanIOGRBHZlGhJWvFUwTb0tYMnSSLYwkCLhwWYBzlnQ7xqIweI8gHJFyoCp/2y4M/eYiW4ECYz+XpLAh5TofehzD2zygjjskUYum1LIEydnO3fFbop2yxXzOmJDMTbHYMEDTfdMNbSFWAADimpdq5K1GVD5RTBu1Eu25PiritDwdpxRAIvcOCjY8XGO/EOYCblCQgyZqolUe4kFezXGgyQLRXLDm4+WJT+GPHI/mcwLBql0SLmEMk+GnM/eGJI84Z0SgSlyCVgY8sYLlMs5HjnZiBhSpu7pBT9ktFKFclkxiAxLVH3KIw3P5p4FniyKBzHklWgCABWyZXIYMFWFnJlFhDyxOhYA5i4ZVMtGluxTTHLAam43TsBxEZKpORR4OAmqo1iTLSjKJjTxwv/A51RAZwAISRcPIoHgGUduFbBABCRAkgPAEnr7FEg+D9o1Z2qgMGLsHCHhGbRn/qchDboleiYXw0wOCElvS6gnL4nCQ46pAcJjE8MI+ciYDjRoxZkp04RFwwZ185xCEWlCLPY6YS7NcifMSMUskDyhtip4tdHmRBYKQJrZ9KCVfA8FblSiYVKUQxUQXlYj8oAIlMeoOdRLGQvyMOLFzSTPatIUe2PQDBbkZEA6Cdw4KJOWvs5EHMVQRCcyGcnUqG8b2eLsbPlIhJQOL/hymqdwZKF3btFWXWVKO1e4yyOZskTfgp3w4IiBC/SUW1I1mIgQJSJofRFFNuyMltqGUxc/4S13eUkW/07oktFgcGmvOhg0iwMBvKIpMrB7HOgaqSkGlM6BsxHWXF+pEE0tcAMJPSZ1mVa+6W63SIN1TkAAACH5BAAKAAAAIf8LTkVUU0NBUEUyLjADAQAAACwXABcAWABmAIQAAAAzMwBmMwCZMwCZZgAzMzNmMzOZMzNmZjOZZjNmM2aZM2ZmZmaZZmbMZmZmmWaZmWbMmWZmZpmZZpnMZpmZmZnMmZn/mZnMzJn/zJmZzMzMzMwAAAAAAAAAAAAAAAAI/wABCBxIsKDBgwgTKlxoYeHBBg4jSpwY0QICiBMbaKTIsWNFCxUaCDAgcUACBAYQeFzJcmDIBigJRExgQIAAlC1z6oxYs6aAAzuDOmzIUUCBkSqFKj1owQKEjg0gYFwKoAJVpwwqGDhwU2IDBl+pVp1AlcHFAShHJiCK8OTXjWLFXgiZQC1chAbyXpwaV6hTCw3cNgCcUCSCiwn6UtUIswEFCBYiROBLUGOBAykVLw2MGYIDABetIkRAEyVlzS2lnhx5U2OEhAYCG0hwGrXHphoPBAigl2zhBAwy29bZtELwnsIRMj6pYLjOqBrTJlcutbHz519RJnZIG6YC4Ndzgv+t3iBCZIXR74Zf2VRyVPNRPxeUzICBAsjrW5YHDIHCZI0QJAWAZP5FgAADFsmXH1RggVUeA5M5sB0AD0oVW3kVvLYgR+/t959Ulc32nQIIRODAZFQZV5t+jJHXnUEpMQbhYGWtyJ5k1ZVYHVgGuQaTA5BpuOFQ5knl2WBABiakQJJFQN5kSw6ZkHkRTNBAhpAdycB8TUV2GFgoSrlQhtAhCZl1A0FJJQUXVTmhmMqFNEF1dKo34ARFNmBlVDuBtKVYbTr1loMCDsQAkI9B199OFVgZ11vkkcZAAr4VNF6LCor3QKVL/feWRmYpcNpkdUbGFpwI5VgmTLQZVKWB95X/iWpCuEUnKAILmGXQkYxBN2thEETgIIbRNVfQlVLtteivBzWqIpgwBUdZfKuCyGyPUjFAHgSiKudkduXZyCyPfF5UmJ7VEXbtQldGhEAFCHS7LkN2KveVtfMmFNJTDoFFaZT5ugRfWOwOhgCnAQ+kKGMF75Vwj1c6oNGpPe5Vb8Kg4kdvY+KuO3HHTDqI78MChRRSRA7Wxy/JAGQLskDRlseywgyLhp5ZE88MgJ8N2qwcAwuMTDJgexU6Gs4+x6Xuzl2296dXKc9ZMMNUmde0qe2ZCBjH3CqckLYgVUBxj8bxqJTVLVZLQcafChgVBU4ppO1Ck5odVNODBevjWw8g/0ie3QCAZXFT7OXcpwUZWGBAnhVInO6woe71NIU0ttz4bf+N3VFTFwD4l+FQGSmQBQgKdEGXDgH4MkJbkzpYl6uzVMEFGFwA8ECwx16QUw6ABBjetgXZ1OQEoX2xQu0l3zJ/RvfVeZcXrFy8UxGcPJEFp8O39HqmWj321sezbgEGVoe5YPmcG4Q4WJojdLpnuKEKQYbxE9QeTBIlj73uqP2eOJdbS11TEle/X2FNek2BTPvshz34SM+Ap7uA/eCTuiJtb12mwl2tOtae9z2MLclrEEPAh6oKWE99GoxMgCiAPMRdcENhq8ADXRWZlyyEdhKb1QZAIjWFzKVKfGqhsP9+pbKhzIV0SStI9hb4MLFpAGHq+53OdpeV5u2OSr9KInoC86aHEC6LWhQfAjKFEPNM8VhRCWNlOPfFKUqFjEwZX+1m+MGdqbF4F0gc/6SEPX69rGm3yxcbAxnF2jGRWQ2IHuwiYh7aEfJagsrSH703r9oQBXQtHF/nINmewuSPSuODZOYOQryFeO90BsQeBmpTH4qA5XSGPORwIuPBoEgFlN6DyAvFEgH/YC2Dd4OAlbDmPQoq5mpd0phfquOk7CVuYH0ZDPqAuRT+eO5qQ1SaC8cHTbGA73cD7KQ39TcYTC5lftWr3n62KUuKgJJ2vQqiZgAjgaxkKCRNOxwszXNtkWy1MyhlY0A9L6XOYwmklN8zlWf8Kc3riA0sL/mUr2BGPyA+RVCUUedD30Km/HxrUqCqHM0aBJevlDJwB7On2Pa4mUEBp3lRUYCuDqqnh3zFZP90Tq+I9xXgTC6M4KNjvqAjOIY98ow9mlVAAAAh+QQACgAAACH/C05FVFNDQVBFMi4wAwEAAAAsFwAUAFkAagCEAAAAMzMAZjMAmTMAMzMzZjMzmTMzZmYzmWYzZjNmmTNmM2ZmZmZmmWZmzGZmmZlmzJlm/5lmZmaZmWaZzGaZmZmZzJmZ/5mZmcyZzMyZ/8yZzMzM/8zMAAAAAAAAAAAACP8AAQgcSLCgwYMIEypcyBBAAwgNI0qcSJFhg4sVM2pkaOGARAQCDhTYSLIkAAsbGhQQwNDAAQEGWJqcSbGChQYeGQoQQCCATJpALU4sEGDkwAYWgipdmHRhAQMDETRg0GCpVYIoLTwwerABApEAEBSYeqDqVaUIENisgLFrWpBhCxwoe1bpTQQMXEpF6BWBS4E8udadaaFwA5cGHtw0+PCiWIEFBNOUcNUCBK04HVjWarDs1wIIwuYMWqEy1YsXDxR2YFAuaIGOJZtMcBZnVa8DBASQyqDggQS3pX4dbBVC6pVyzUY1a3yqbOIlC1eAUNanbK+wUY+GTvjmBAaR5Rb/fJjz4oOp3IEeYHBe5HMIwAWWLas8fcbL51O3LXgZwoO9APy2nX0VFXYZagxoxZpAEBjnHwX5wUcXgRpdZpmDlqUmkAM4AddYgzhRuFED+bH3UIYEzZWcVyTuJyJFF1FlGQX91deAAgd81eKHpb040XmgnXdabwQ1h1pVzUGwoI8NTXeTahn+ByIDqjWoFQKb4ecikwkh9YBmluV3UQUOQKDAeTcp6WSN9XGZUJQG3vSAmhAwUOaHmh2IGmlEBvUABRcZV9gDCZ73X4BpJoDAAxNcNiFQ6CnVwHRs+ccAoDHumWNHUx35wFJt0lRlp1rRN59AilrgwJftneemRDcd/3kklQoQRKKcqH36akSYmUeicVTaKuiOoe6KEH7rPTTBeQjQBoBxAJB5Xp0kKtWnVarGqpaatuHHoaH62dWjXSRWyiiJHFLF6GW95bqlSRXEey1NB1oQb6QRGtYWahXMO9N3Vk3VKwNE2uZQe8oRGqmxCrkKAKH+OkQqtI8yrNC7jGloMUX2WiTmxrBiXNBNDOwVa7EgC2Rggpwd1B9b+a2XMkIWZHAyykhZplmnKKf8wAVyUsWXYoOepuvMBukrskP44bgw0klrJXRCZMY6NdRJP8BWz7CVRSXXSFswQbUNE4wX2AyPexJ9NBcmFYJYHzUuZlcfhaWeUx0dd58kM/8AEWMyEkx23NHG26PAIy92EouEF9RvUycZlB9bg6LdeNQsPn15Q4VlyDZxm3WeIZF/Vtm5SaG7+qdilYlu3NnXkoXU7G2JDjlTlgF96+xA2W7gmHAfld9RDw9U2AU2W/6s6Ankd7tGnRsp1bmxKhxaduYhNOecFgCtd0I/Jz8W6gdCsCyJVKWPU90TTRBn95YtBCZmqA9qvpiK4fR9RpbZ1N/pNIOAk+JHku6hqUUVC0r/RHeBYulOMRZiC/Q0cBMFKS86hroABDJQrIsUwELN4Z++oJWe30XvTaK7oPFmd6CIgY5ozzNLlgYlETYRbX8E4tpFBqU4jlgAQjDrIcP/emgbrbRMIYa5zLMmYCy2zI2CBMyZBSjDlP9ZzF4VYN1JfneSRRmOKRfI38Y4gAEGuE8gGvhSFg1zPSq2zUAp++J4TjaggxRGAxbanIFwaEcLqXBXDfwTr4D2vI11LGuWs5AQ43iQC0jQhxr44xAv5EMlbs54hCwkf8IoSWOFUTEOO8gCOtfJXaFmkVGL5CUzQshS+kiTHMlAGC9nQIP0SyGtbNyJClMRCv6NcHCsCCEbdzxYLkSWqEwZCKFnSeNtLGf4gd5+eMkwEIpuI6wDmiwzMMnO4dGVYaIg8oBmrMto0GbJLFBhbPZLLq1TaTOhIBTTaZ9ipmlpE2EgMt2Jx0cD2oQm3nwnkzqXAf88JCjWtAAURRQ9sTXAjQBt6GUWepBHLmV0BFMbQCGYSXG+L3quHEgos5NRY0ZnUloB2v+sOc92qrNN1BrpRfMDQSkqEn40hFWvYjSy4Q2meiT70AQioNCaFTV6FfBImyAYK4EQiokDXRexHnBD292UfiSdSrAAwL5XGolEEJrUsrIIM1m56GuIc+oVtebHCkiAYAyQwKR4tr8YUaUsfByiQdO3tRglUGIaA2aC5lqy02RqlQ3ZU/F2FRAAIfkEAAoAAAAh/wtORVRTQ0FQRTIuMAMBAAAALBcAEgBZAGwAhAAAADMzAGYzADMzM2YzM5kzM2ZmM5lmM2YzZpkzZjNmZmZmZplmZsxmZpmZZsyZZv+ZZmZmmZlmmcxmmWaZmZmZmcyZmf+ZmczMmf/MmZmZzMzMzP/MzAAAAAAAAAAAAAj/AAEIHEiwoMGDCBMqXFiQgQMGDCNKnEiR4oECBCpq3KjRQsQDAgQY4EiyJEILDAQoJCAy5EGIJmNK3GDh4UKWIw0y2LlAps+EDCrAVHggo8GiB3r+XCrRQs2BBw4YJBB1QU6mWE/StDBy50WDBlgiyJr1olGBFoQugMggqoECBQUMOEv254MKUQUccDhSqsCHUQdMrcvUKUoGVB+gLFg0LFWCba8SjmnhgtMHDBY0cGBB8UACYf0ObLtzsk/OKBf4NTDBwkW9mUULdBjZtM+1pSEfCBvAwNDRO3PbztrZqwDQR/faxFrBtmG1AhDIHohb6XCmDmsyCIv54G4Ekq///+SJgIHiBw4aNCcoXbzJuwAeYIa5gIB5zJzvd/cd3r1E1MUx0FlnIz2QFGgJfGeeBZs18Jt/EmGmWGcPDdgZAOCBZsBYANBmnnAQTuQQZmuptuB8DeD2230OdBfiRA9lthOJJOpnnm8CnWcYfC9GpB5iewXHmYQVbFbeASjJN6BiD/ZoUAU1NfCAVbRdFmB6Uy4YHGYoOeCkQhUoFqaDM56YloB3cQmRb2u12OSXkA3oFVU7OTABZxV+iN6WPL0J50AOSHDXiBmVOWifxcknaIx/KlSnYRDF+BACDzlggG8O3TkfiI02tN1lMTpUXp07cWieBPlZ2ilDQW32AKpJpf9n524C+SarkUxVsIGfMvmWJJkt1oSXUntpFmh/MWlgHVkCprXph8t2uKED0a46mkFDhimUh57yuqpTXkJmgARCVYCbARdaG6FQ2Nqn4rXqRnSYow4d5OJwaZWEkkdAqYZtcNdtwC5H2gGl2HIDgccpYRWYS5JTvAKYLgDFLVBtvGc+CPFsqDHZocXTxYsWpAQJO5tX4AaHo8gFOXDBwSULty+Um2W2FstPGsYvxfVC9hC6sUmAs0E1GYZWZjqVFtzFQ1PsFMUOO/1Ah2zxFG7TYDm1LcWYracUtd5inXJwME3c9HolF8TkAlc7vbDIYXeoFlp/7Yv1QAMjtNNI81L/ffdAFmjgANo6VVbTdJ1B2bQFFiu0pFOS2fn23yVPSHKtcVPeLKTIUu6ofJbdq+5iJCFm5dOku8ev0YBbkIHOFXWWUdGJbyZeap+GClN+TkGgc9yWtTWb5X0Th9JV/MFLEJ6X6bgzUNsJdMAAxLdtkqCQbrciwCd1CS5KLz8dkYEE6MhjTBNi4BrY1tF2M1CVVSD54BNa1hDRiHVoGGeEb6Szg9vC1MMus63Xmacg1YqK9AQkAadQwH+XaVOJNrSU8/TMU+KDTPQeEoH+McQwQRJS9OryvNk4hW39cw1dYoefPpUoREVr2FAg1rmFWOhVlbIehNLCgYb5RGeh6hTj/6DkmQG+rEhMcxKULsiRB7wOaDV0kkOERhLLuG5yjWpYBV4GQQwEJWTWIl4JP0g2rFnxfB/ZieKwxhncRIhxI8rcny5At6YMKG+eA0AS0dK1C8gRTkWkyBn/CCen+JEiKaNc+hBZmShirDKIxAAdPbekieyIkhOSY/jGiLMFwe6DrLubzooTEQG9jpMYSx/MGAIlC3jxb72D2B4HooEHhA6WilEfFgsCJfvB0pA6dFQoF3cBDKCRIa9LpijVZ4EVftCKqLQWg+4yy4O4zpUNWBwHN7LFYcKtTRypwOvOY62VbephTvwk4JxkASpSjDLdHNBoBvei/CzFMkMSkEAsY8mZ16lOjdWMXYAGoj5JGm5qpkncmqKpL0ZRrJ+u9OZCAhqnQCGNkLHT58g6k0zDNeUBE5Cjyt53HQsZpqBWTIjhLDSQS+kPYR974e0SZ6UJdRSaJn2dQXV2RglccDv+8s/+XndGnRnTQpt0ivoywEztPKR9MBWqmDZnId/tKKc3lFF1IPOnAfFPQmk5zJUWVAFyWSwCS0tKvIjoENw8ZE/BuUxQKkABiylAe5jCqFC7VCSh6C4/RbIZ2Xb5SMs5YEgEvEvNKOqTgAAAIfkEAAoAAAAh/wtORVRTQ0FQRTIuMAMBAAAALBgAEABUAG8AhAAAADMzAGYzADMzM2YzM5kzM2ZmM5lmM2YzZpkzZmZmZplmZsxmZpmZZsyZZmZmmZlmmcxmmWaZmZmZmcyZmf+ZmczMmf/MmZmZzMzMzP/MzAAAAAAAAAAAAAAAAAAAAAj/AAEIHEiwoMGDCBMqLLigwcKHECNKnAjgwIECFDNq3GiQwAECAgxwHElyYAMKCS8KCJBywYKSMBFSoPDyoIABBBJ6VFAzpk+BE2YqOPhRoUUDIn/+XDChJ8MDMxESmJpTqVWZGWY6tJn0qteBC2Y2HXrQ6VeSFgW4JHigwYKQVQseWBD3LEcKDhYUMMDAAUoAC5BaLDv3gN2RM2cumOvgpF8KBBAgdLv28MbEeF0qYHCSwcy0XSu6dEvWMsWGDiYYKA2Ap4G8HwXInRvYtEaXYQ16Fku3YGQDCLbajhlWsYK6Ag8YQD6cowO/o90aZriAdfONfp9TAL76udPKXidc/12QNzBungwmeG+Q96sC8Rwd09Re3gH3ruRdOuj79/pC8hHMlB0Ej0F3gHUDFeiXfwu59RhqgWVHEwMHOUDgY24xqFBDLq0WHE2jkfdcewKtxxkDZmlIEG4GuHSgeeQl1lAEjb3UYnW4qThZfps1QCEALcrnl1vz4cahjgVNIF9+o4EV40kNQEBaj+shuSJeBFJA2XJO4uZABLS9RkF66YFnZXECcnaAZ2BRxqGRDr5pJUMnMUVBUA4C9qYCbrllQAJ9RpDhnAT9iRQBiVnYWJEuaVmdaBw2AB+hgBXEU6BD5uUgTQAg0GJolCYEHFQnCUoTZRneGGpENKmnXlji9f+26mlGMuXWpLMaFFVZOAY2F1kxpugTBBkENVJq01HnwGQ0IfhTAxhMgCtFQh1EmUwO8JTrQCAehJeWP/6op5mzKuYtZlCCpYCzoWrFK3SJCpSjhnYKy21TzI6WmEPVgXpdBsVOy2283ropkmflISltQid9KzAAIJIm0K3sUtoQZloOjK8Cy45rb6g5YgYxlEOJuy1EuCU2lrknU2tcBey1fNqQPJErs0B/aVUTZUMNCljGNxMUJcRjsqtlgIRSUHFBGMdsls1WSqteQt86UIFiSt8s1tLfJnY1p0E/pK8DFnSNs3Bhr/jRAepVjdcEJqeNs6xhhdVwYnJzC/N0y8n/Nia6H2/LXk8MKDdxokHdmTdBFBQlL2VaUhCtbRhf/Vh/E7kU12JOSkC5XxVYcHnXmK+IMolfVQVvbgDUOdMFXYMusrdUo36VzoBZFznP1RHJHgUw61oB7E5J7edXHFYc1mMWhP6tm2gPdMEEVxcv1u1J9XpZ6QbV7ZCAAGiw8E+KZW+kZTCzThAEiAHfQItgNVfnQeNTlLjoCiDQEL08jY5YBV/qUOAoJyCwZQRwS7uO+waIEAMIKFvaapfQHsAqxWhvcecqUgQxyLRMcYyBGppJBUDYGujM62RXswAIveazk/1uVwr5WgtbVpyrLeR1BrxZjGB4kBTmUGYCKlvH/yoEPBWmbXQ/HIgPh6i1IrqPaq2Sm4R4WBBNLa6AjZGJ+tJ2kuFRIAIGgc5JMNiw1ExLQCQsl1bYV5AKGIuDF+MeAL7GRLkZZzJXi17aksg44KUxaXrUFezwYkcw3nB2YdvfQ4BHNjnOqm4JxJnsKqC190nkfhSwQMvqFEklwu1qNtxWsygyPeoJcVujysgD+vc1RzKoJjg6oJYg8LVB6qg4W4FaRIanAADCDnZ1VArH8BKBniRKlxlxHsaoyDiSLLNsAlLNHxf5NgpcQJmELMjdbAcRr5XtlxZcl1K+xpRrXsBqeFOiNdcpo/+4LVFaaop5bldNdhoQM82DXej2aX3BGhYQeE6MkgIeQJuvIO6YjAPmTKDpRNg1r2wMXZRjpLVKZCoFeK9qYeS8NsXYVc0vKHIUBBYggVgOB008LGDDHno52YGIJ5lxVH6SJsM73e2BjqpRygQkpYfpiKFdq9ME1uWSpjgqZmGbXjQ1JSgCtY2ZYfMjPPPiSqUEBAAh+QQACgAAACH/C05FVFNDQVBFMi4wAwEAAAAsFwAPAFAAcACEAAAAMzMAZjMAMzMzZjMzmTMzZmYzmWYzZjNmZmZmmWZmzGZmZplmmZlmzJlm/5lmZmaZmWaZzGaZZpmZmZmZzJmZ/5mZzMyZ/8yZmZnMzMzM/8zMAAAAAAAAAAAAAAAACP8AAQgcSLCgwYMIExZU0EChw4cQI0oUqODAgQIPFUzcyPGhgQIGBBBwqEBjx5MoBR4gIMDhAQMHUsp0WKFCQQEDYipcaWCmz4MUKmggWPEhgaM/kw6sQMGkSosFa1IYyFKp1YMlV1IM2mCqSqdXrzKsqBNAAwU9v5YNOzOmzpJZwRI9UJLtTAULFBBQ4MAB2poJxza0izJozQYHKiio4ICxYoYXA3ytS/hkzct8E9Ct0GBBZ7g6YSKQW1ki35p+AYAW7FgvAAIJCKQtvTEBWsp8nS64TKHByNd0ac/sS5ni2ccUSQufaMBx384OKDgYbSABRQeDl3fkG6Gx37Ml/SL/eO5gt/aTuf2WnI22J17G3s9DPN3Ae4WXNhE2dsxZfkL+jZ1mnwMICeaZBKVRkMFDZ2HHWU3hRdCZdQAEiN0CL5Vkm3JXeUUSXBUsoJl06n3nXHfdIdDZWf4l9Nlt4Cl21m77edfUc561eNB3Y2V1FEwVKUCBZwtId1YDEoCno0HjddfjWQb8llxJ4CmwYXQcLtcbYw3wlxcAsw0kmJU9Uulhi0J2eZlf2C3WGEFVhpeXAWghuCRVqjEUAWcStDYjko0dKSFyd2KFloh0UmBYl4vVJ4F3ghV60FkUClQeYzAexieBYUqqEGdgjQZeVxRU6ilNVhZ0gG100kngqRkV/ydmfklmKSljRDGkUHT5wUrQg2LKapCGvv6q2K82WroQWueZSlJ/A/GKGm8C0WmbdhpUkMGZ/x0bbFYAHHaahrZ2qGi5Akm1EItmLaZRo8wWmy6ugXU5GFzybqUovQbZVkEEFF2bLwUbaNDUZYr1Gi5T+R6UgKIQJHwZiw+iC2vCFwjUgG2G8WZxw0TVaF10IEdEZX5ulhxUpd4SRVACCsuLqaV8lTyfdZdZcFm62dlsEH9A69wztD47ZzTCnQ15Z1MCPRyUQmQe59huCBO9ZFCKQl1WV9/Z55hhJedGkFYUAe3Antz6WoEFRQFAl5SqbdiQszL3zNdawfkMtVNj6f8t0dq+2Uw31IpmPbBTENIkVNp2rYmwzmsqt/ZhDC7E1toXIOyABTVCvvNAOl/QmAXzvuqQ4VY5p/N+XeXWQH09z/rq5i1XuJxGjDbVG1zH9W1yl+F6HrNSEC6msXNNZQ5hfqSb7JVjbIeFKbulf8wRqAM97FPxqvm9q5WDDe89URveuV9KFbhHaaGQC319qsIu6WZNOv+dfr4xQqr4fdb7Vx/SCElAlzCgmMFdrGoIoQDkqNcw5xBQfItBmM8iyJ/YXWZV/VsS1yqAgfothTHl0xuo1mQsDXWqZCNkmKUAFz+bwctYRxpftGq3nwyqDXGosSGsYPa8/YjPezUDgAL/a0JAGRIlO0T8nBFVmC6dEVCHtxJRuhygvCLKUEhgkQ4CZbgxglggKJuLnd9Ik0Mjxu0gTKmdCHVlEAJix3tqypIEi5a4T+1nAb6Ciw9ZuD/UHLBqmUsVTUanPE9hLnSOmQBE0niZJxZqj5yjQAQstjbpCM90/pnWA5miSPtZkoCek8+0uHQWCIhxkGBsZAUyR5ucsU4CCpAQJu13NjVxEHDmmYjCcpOwcAVvlRZQnmNgB0UACO9Bk9uk1f5jzAu0L3PBDOYqR6memkiAcdfT2cGq9oBDqrEgD7zAAzcJudH56U1KyVx3HuNDZWJOYr+KJgfHuZ9uDtN30rulTUYZVEwHgHI/bMsPwh4ozSRyZpJxrMwtOZdGRTWmY6vLjn3AqCh7SSgCDFDTWoTjHCEFyF5qTONDz8Y6vwBGR8es0e4UtrpRAq2Y0pPa5H44EAyY8TwBAQAh+QQACgAAACH/C05FVFNDQVBFMi4wAwEAAAAsFwAPAFAAcACEAAAAMzMAZjMAmWYAZjMzmTMzZmYzmWYzZjNmmTNmZmZmmWZmzGZmmZlmzJlm/5lmM2aZZmaZmWaZzGaZZpmZmZmZzJmZ/5mZzMyZ/8yZzMzM/8zMAAAAAAAAAAAAAAAACP8AAQgcSLCgwYMIBS5okLBgBQcNI0qcSBHAggMHCgiIWODAgoogQ040gJHAxoQCSBIQybJlQQQEAkgsYGCly5sVLVgg4ECAzYY7D+AcKlGnBgsLDDRsoFMo0acIF1SYeoCB04MWpjKEytXggoUYrxb86vFj17MKGTQ48NNgWbNooRJY4MDAxYYKvm6N+5TuArU6LTjQCcCABQAeB3hUyncoU50O/jZgILjBAqQeIxtA0Hjo5QuBLTBUsNnpgQqBK4jtzFIqUwcVGES9rBMua5cHEHxdoCDh7ry2b7d2MJi4A8qRISo0AFy4y9eCBVfYHVnvV+LRnYv062Dy14G8FdL/jT54r/aJSSfQVeD0sEHiahfKPj+xeIPikAcXzL3bLn30gwU2mAEOKEDcQOURN5lo/0XE1IKD0TVBAxMgJR1+0VEYXIMATGWRbgvRJYGBITLFQIiiXRaheRx2GIFClll2kXfVPbibZHpF1uJ73u12QG8EfWdRjF8BB+SOAjkgQWSvTdfQdXqdiCRB0y2UIWXzMVVQZLFN18CXUwrkpQUMPKTTl5RJd11s5CGVAIst3ijahJe5NoGZsT0oWmVIhekVcBYccJh/hSFQ3ZILSCDVhmHKWJ5tgoFnF2lt+WlQYBHVaamDQvpm2aZPdjrbkaASpJNdwc0HXnilbpnVdVtp/2kqe60WVFuAoVU2AQCP1UrQgwBEl9R4FfCaJqG+YgrcR9YNhBqjO2aVlbO1edUpYZtOdVSxAgW2oWVT4QknkiNSQBCuDFqkEGoaoNanr92GBlquUk2lE6m1StXdnlbWSS+84Mk41lZWfgpwpkGqe/BA7i1MUYRBcruwu8Xm+qhgtl3GWKkSWAZZrhbMGxq6AOSVb5vYkYduhllJvKmKXk4IG2zcBUahrPkWQJACnIGXIrQcuuuWqBjtB7R2Tsbr4VgYOGBTVXcJNNfRDS596QUZm1fcQOOCSvVlR1Ls8ERTbdCwAlaPrTbVCyvKMGQMK6f22w6AlkGw2MYbqdfBBf9osIoKgVaeQi/SR5tOIqf7JKmYGg5y3QF2x3ZU9AWWgU4PBLjQfaLeFDIGDZ/VwAVNRwcZuBd021dgiXPlLlIlCo2Wxxjm7dm+e4bOF1KWYXiTprnSF5lgIusXUrXBRqvAnnUHhm9DdU0u3GBVWlB6BqoC9S6ovOtre0KwJw8qU9VPHp70DQLWtbXot0jY0cy2P+Vl4366fq15udztBffDW6St25ubRbYXmI0JkEQCWRIGQCM/Sy0KABB4TG305zBkBQZ0ARybAo60PMg10E8GKJPPLPA8tWGLNjoSoELy5i0VxktufhOglRqHt8upjU06uZwFzGURzY0NcQJKmgT/QeOw5VnPbzxUAHKs971aBUhwEviVyEjXRK8JRnKXumLILoe1fIlMKpeSYA6t90HWMNF0UTGTDmnop5B9THdbQs1jjGcpC+iweRE504TcOD/LvRFMRTEdziqHuAVi0G9wBN+ZTCc3M9rxkYec1wXMBJK7hexwGGvMYfxot0eCZjqJpAjrRjmZRkJljJ5c5JfKKJAYuVGHa7wMVxwAS9FUoAEPQQ1RzpTLCwRojUBEXkRkgx+9RQ41ATqlYJb0ui0+0nqXA6YnF3hGweUNkcI6S2hkpJOHoFBe1PQjNUnXSbNg0pRxSRxsSMglMjHFl58TXCejeSYkjWxkEaDA+3KHKctwnaljGeTQ3QAgyTdukk8Toswcq+inZ/GPnIgzE2gEJ0sB2o2VFQkIACH5BAAKAAAAIf8LTkVUU0NBUEUyLjADAQAAACwXAA8AUgBwAIQAAABmMwBmMzOZMzNmZjOZZjNmM2aZM2ZmZmaZZmbMZmaZmWbMmWb/mWZmZpmZZpnMZplmmZmZmZnMmZn/mZnMzJn/zJmZmczMzMwAAAAAAAAAAAAAAAAAAAAAAAAAAAAI/wABCBxIsKDBggkWHDyYcKHDhxAjSgSQoECBiAIKDEAwsaPHjwAIaBQAMYBIkiBTqiyYkcCAkgJQrpyZkkBMiRkBTJhAs2dHCTsrQCwgAEOFCRJ8Kn1YIAEGCRgcZkywk+PSqwYTaNW6sACBiljDItS64OLCqQsSiF2bUKvZgWoFTq34du1SkQGaMmAAlMHOCQUmLFBgkavdpQIMNJ1QUYFfv2kTMNA6AfJhpV+BTqAwAQEBAwQIKIC74C/Pyz21+jUdt2BaxoZRz0zwNaHgBwsTKKDtWTZNyQgSBAcwWTJFtZJLM/BNc29lBgoGL9iLvEDaxzuZq1ReubJVA7G/7v+FMF07yK2ToSt0qHereZCREypg7Jd4ZYH0GUwXfPq9RNWPcYfdQJHt9Bhu/kHUVgISrGYgApOlBUCBfE3mXYIPtVUZed1JJphkqgWnm2qtYWiQdCSCSJWFKVbUVmQmLuTZVgtqJYEEJcq11WvrxbjQhwnplyNBL5IXHQQ+GpSefBIo0GBrfJHmJGSCJZXkQBIQoJOAEOjnZIfXNdjlBFNeCRdjZDbY1wOllfaAYBAwGB2DdA4ZIwI30sjAm1xppWVIxQVXgJVmHhQZAm9lB1eDx/VYaFYwOiQZgo9mqGiGdlY6VkSxaZpbpgN9xdGlnhJZGkGTESncoP2VChdV3P3/VWGTry3nKkGloWlblMcJRxWht1K0k4Q2qjohqcHmKpB7BiHVqk5AeQpUUgjwZyhSBN2IAQYOaGogUBhcoFCraD4rnFWV/oXAAzeaNqxpjrpKlbu5RksWiMEOFJyQyOU4LqiekgVXvksBXCpVruWIMMEDVdbavGrxB++vwF5J6Ly5utudhQ7i+Gi1jB27E2fYMUDymw4abCKbOhm4cYNtxhUfwxT5NVxIB6C7bF0ENyUTABYRJECqruVJEKU+qjaQAMbBVV9BIEeFZcXMKbusXygV8LRApdlJZ5LTAntfwwRjK9C0z9KsdowT/Ln2z1sLqyiD+bqLHwUN+8VZsCwL/6T3arb1CJnKj1IAVI83P+QgZ7KGvDauDjpnGq+oUcUZ4RO96GFlFpi21sgGHiXWjo1TcJTbPjUOGZJi/UUWm7alPZOBFAyO+ez81Zg67d2dap6asn/0V+3v/pXg2BQxKrwFjzHou5nMdvTXAkAlgPejjFUb70PT9RV80gBk+b1BY44PvQHbZ6VrvjNGNKzaCHAEMF/ma6pWtbk5/riHByG/P7LCup2mCGC8gnTmccvazFEq1imG4chdDNBZAwk2r851bgIR0JetHveaDqGqfrfamAH1tzbBMM41AKTZvJ61mc5tUG0TuOAId0IrtSXAha0KzgSO4jqa2W0gDtCM6f9IGKwYVmZv2crVY8pmxOllhTKCCZaDDBS3V2UshBSwQAVIlkKubQ6E/qHKBZuovIU06YhUYxtjeGjBBtVvhZtJH9tM9q40QmqKDptQkuq1molkDzvD20wXfbOiAk4kLQ9YDfEqYMEmMsdlgxkk94RTur/wEIwzWU0DjBfDlcAmLZq5oCLXspoxbhGTENmJbRgkMZddxUFjtABnJCBHlVTGjbnaXNcAczsIaowzpnNjFVPHnVxN5wGF/OVRhmga0w0RmC1cjZjcaBfDTTEplXkAyTgzxkB2jpl03E/XGMQXCjzvMqfZDEUyVrpTbmwB5kRKXECGsXia6JMJadMDjZksAHYpgF0RyI5pRIdKu9yyXF/6lsv4Q4EstjCL3oKjQqEpSKv50AIAgKh5AgIAIfkEAAoAAAAh/wtORVRTQ0FQRTIuMAMBAAAALBkADwBQAHAAhAAAAGYzAGYzM5kzM2ZmM5lmM2YzZpkzZjNmZmZmZplmZsxmZpmZZsyZZv+ZZmZmmZlmmcxmmWaZmZmZmcyZmf+ZmczMmf/MmczMzP/MzP/M/wAAAAAAAAAAAAAAAAAAAAj/AAEIHEiwoMGDChgcXMiwocOHEA8GKFAgQcSLGDMq2OhQgIACAzKKHLkwAUUBDQMEEECApEuXHil2DFCQAYUJL3M2FLASZUMCBQgqyEBBoc6jBgn4BGCTAgaCFBUQpKAAJ9KrAwkoCArgpleBAgZolYq1bMGtZAFsnEA2AFCOZuMCKKCgAdeDdOkKDHpX7suNG40apOBRa4OtH9P6Jal1rNqPBRpQoCCZMoMDShVMprDYJQEDWwVOrEu1KIUCVAUyqFy080ilSgUm0Ly5ItqBBmYnVOw6ogG6FtVu3twAgOGBGwkc6D1y4wKBCrTaZBABuuTizP8ySCjwswLQdQNf/6ecneTGBugXbK8LnS6BBQ0gHC4vsi56yjh3E1ROAD1c+hElRJlmDTxnkGZasUQaaQA6lFwEq7EnkGQA3HeYgAmN14BVDZ6VnAILJHAYZSRKxsACCUVA12Q21WVgh0Ktl9ACVI03mQIJtLghXYAFBuNZEW7XgE2VrUYViuuFCNh6P3pYVwQEQFCUenXJF9RWBQiwHQEJTOAlbzAamdB2PLIF2H4GyDijiGA2ONt6h5k543ZnzWXYjSwGB2N0fGYYmIDzGamQZgtMoB6LEAjW5IJFnQchZRBGMBwDNrHFZJMFGXpZf6aZaFpRDXymFo+YHiRAjlXRWJkCEERHGAMQEP80W6klVZVQAlSRdSWBtEI0G2FqaVUQVXT26hABjUKn50CzLWssQpq1OZBeU3H2rKzSQvefatZeq21B2FUooFCTeZsVXKxtRh1vNl00QbfMbURiVSZCV+xA5fr67lPZCYhnagy9y+FDCjzgbGdLBtYaQ+OaK5teTR2MHFUCO0wuwAKxuFmXGmAwsMO0aTycWqt1afFZFFgwnH5CndxVak2R6DLD7Qp34swOpsVdjN2+i3ND8uLp5c/cDhTzZBu+6DDGmlVAHGXXZWvsr8NdgDRl8snn7o8h24ifVNsa5OUEen7smpfWlliBiRumlRhDuN605wQVVEjcBNh9BNXOC/n/zHWM/+WVFQV1E73RXZEptiHRc+ULAGiMD0Zb5H2P7fhDEvf67uUIOW7As14G57eDlRV+0HB3U7hYVQTnO5nTNeN79drpOk24yvSpzhThBG0HL3ROX3CrfZXZWN5mVlewnaIOtQjYl8t3GTbCVpc7PUQrr6VeBOEK97tOCSzLolk3FRD7t99TzqxUyKZPUvcAkkXBmzqF3CQDnyXQkktNE+5+eQkQAI6MUx2MIA9UtJoVdP43mLU1Smpci5aDhqM7b/mLgUizgGRM560cpQw/g5lM9Th3rfP4j3lXk4xmXBY3233sdgOyAM48SB5ZXe18LoNQ8cjlO8aJSEqXO0xT/yInr+oRBAIcJFqjKMNBBrrsNEbMmBNdFrK0LU59CrBABbRoLdapL12qqyHlRLhF05EQZwxwGhd5OMbq4Q5fwmJcyC7gNII0AHJK3J3TPrakMVbmQHGTY8PwcsalVdAgcZsirUbGkEPZ7kIWXJvVMCcZlRHHWJqpXgXMdqAqRrFUFKie1ThpkAb8Kl0QZI7/qndIhiBAAl0TY4eq6D9FMitRF7RlWUgUyl5uSJfQGcuMGNmbWlpNhZsZCbEUVplPGg1EFErlQlhjgeoB5pfawRFt0rUZ23VzjRAhzXCc5sKXAbMhVBlLiSbjgA9a7QJurCPQgve6UEbtXcHDSq6ex3pLqPUTdUIR52QsCUOFeeUCcaHURsJHINQ51EQNJY7TGuBNyWyum4uBkJzeVJVPbah4AzKh/yzAliVuUITndMnXMBQfBrzroxMQDGBu4lIaxWxzCO3QBV7aKfx0czNjMhTe8Fa1JMKol5sUiDyHRaPNPMeZkeNMSjMSEAAh+QQACgAAACH/C05FVFNDQVBFMi4wAwEAAAAsGQAPAFAAcACEAAAAZjMAZjMzmTMzZmYzmWYzZjNmmTNmZmZmmWZmzGZmZplmmZlmzJlm/5lmmWaZzGaZZpmZmZmZzJmZ/5mZzMyZ/8yZmZnMzMzM/8zMAAAAAAAAAAAAAAAAAAAAAAAACP8AAQgcSLCgwYMIEypcyLChwQQMHEqcSFFigYsVM2pEGFFhAAEDCmwcqTGBSY8CCCRMMIGkS4MEEmBM+BGhgAkVXuoUiCBlgQEJBYg8OEFCy50vEwhYKoDohAIJEjKIivQlAQEBDApgMAFDV6pVwxKEShSi0Y5ixV6VebCAAJNgAUD9SDbtRgIHCqAtmDKlwAQNZH4EvNfuxAQxAT8E8HaC48AEDBBo4PioYYpwTw5MEIDAxQkNAoM1adTyZYkyERRQORDrW8oIWBOcivg0xZhLC3ZOUJqC44dxbTdMqbk1ApaUKwt3ifcqzATHeStePhJug4ENGChA/BZBaNDUN5r/1M6AsoKI0qFCDUwweHiFehWARlwcQOTm489DpEz5PULAoPEHAAIFyTRfYOUdx98ELPlnEFcNSNCAAhIoUNCClKEnE28Ujudge4DRFxhUgC3IlUn9ZQZXYQRJsFximakU2gPjPcZgdAQcN5Ve7g0kwQPLQWQSAQRAABEE2QUI2gQEAAXAkAZMReGHBU4V2HxCnhiiZokRcN4E5YFJ5ZMQUTihBEOaxOB4oxHHAJIQMGiaf0IGhmYDMKpWJ3Z/NfBAhFzJ5mCWKCpFqI4snQimY1OpZsCYPCGAJmIHqOTdmutNIB+AaxJIH6R/kXnSgbFxKCGYNBJI0JygrkamaGry/1fhVKDeJpCEXJ14Yq0ZSfrApDFF2SOvDymHgKpk0sYRgyOVVhVi2f1XX3u0boTABBc8q+Z/sR00FbMboSkWdMOW+R+rtcKFXUtyeresi8T+FdNflRHAVV0GFYUuQce+R25lYZK573HgJeQYBv5eGpqHixKV4b4DSoABwuFlFlF0AHCFbmUTAJkQsu/p6WIDjwKgr6ocT1VtvAKtOVBHEM3H8WYsr9QgS475BlHNDQHI28w8r8RvlqBxNRDIQWdcsMtw/fkkA78mvVmDB8XEcYRSC6Ts0fQm119D8BLr7mOnQsygBGHHC5FvS1Jo4cdoZ8Crolyx7Zi6DEFMJ852f/89b9bUTuBbhljLVcDbgLdsI5h+CRTAtXrXCjkAJkal3tSAOxudZkJFXrO4A10u198UVZYcx56HtS1DPS7pumMO8JcABeEVoFy+vxHF9pUl3q0ysgQ8YJmgVUWIdkE5T2DBhVcfh+ZUEiAA9XUgDkhA7mHFPWeAK2+mspBwnfol8ptJNixJ17poNL3TEpVRjt3al7pCvD1EAe2nkYtAydB9ndHxTwKAzhiQttOs7F/YK11lLOCyD60IJwl0iJoYCKrvCa5gFMmQ2HB2u4UgwGMAMArL+sepxC2kKFnSmQkNxhvKJICBnrtg0NYENZxQz2COWV7SGBQYuyFEcKFBGs//NFYB/60KNKDLGoDYhjwgggZ/gGNJBSiQk/ZAEFyJY4lvoPgk1xlRiRaoAE6QNzguAq5uCXSMGCOoxASI8Yj8uWHiWvKtzTRgijJcYcuoNiCcVYBFWRRQ1+KkxyYeZVLrK2QXGwDFb8lRj4KrouLupkgImlFxhbzgGJH3RcDZ8JJ9FJMJKcPEg8Qqi5pUyPWwyLOcidF29MOZ1JR3t2t5MDGtNB1ldBhLIdYqOQ5wTAQcohpV8XFMp2NbAoYpQaoQTJQOqgwVrzS/gViGU77RGpLa9ywq2m0CtqyOxqQJtLSgDonZHMnmKDPFNVKSIvKpjHu8pryHVXMh+nvdFeeXmZx2ehMslPlTzqYivHsuhDYR2B9yGECBBb2zQNLE4zkVdTqunEp1iIlABCalpsXBEHXt1KLGFpSZs0wgTmzUCW2ONR4FoQh19FzSNF0HL4vFKZF22RybjhMdh34nOYoy6XV8l9LLgAlqtIkJoqLDMTURMEKne1lRKwYXnR4rOk/9U0EN6i8G0CYBCyDUm1xXyOdp6m7nq0pAAAAh+QQACgAAACH/C05FVFNDQVBFMi4wAwEAAAAsFAAQAFUAbwCEAAAAMzMAZjMAZmYAmWYAZjMzmTMzZmYzmWYzZjNmmTNmM2ZmZmZmmWZmzGZmmZlmzJlmzMxmM2aZZmaZmWaZzGaZZpmZmZmZzJmZ/5mZzMyZ/8yZzMzM/8zMAAAAAAAACP8AAQgcSLCgwYMIEypcyLChw4cQI0pc2KDBxIsYMxo4gCCjx48NAxQg0FFhAwwgUyK0eFCAgAIFFh7AgFKlTQAHKiIsIGChgQcXONy0mYBjyYI5G+ocCrLBAQYbDRhEcPQBzQ5MswpsALPAgYIbEVgsgOECBg4XtGY9wLNggQEGxG5tcOHC0pdH1XoswJIgTLEsqTZ40AAB3sF69xbuK1AA2wJ5MTjgynZwhpqJJx7IWbggArYCL0Cg6ZRrRbOYM0fk3ABCwdKtC8R9MJAwAgYIEqieWHEwY4EJEIgUTPP1790Nn4qFbJCrgAAVH1wujjzjAQU5Y3rmyvckTQyuq2P/LMr14AEInxn4Jiw+Y2H1BCsCBt+AQdL2HhcLhPAAwmAIDDjgXwO6bUXfSeHhx1B0EEBAwVZe3cbXQK0N+IBVNNGmYEKEtYYBYvslQFlHKAE4mAMPVMDfZBillZVYDfoXH2tOjfbhgOsdtyGFEFzgAHjgDXRAcBXZuFh/vvW240r9PeCAjzI6hWJ/N37nlIj1LbUkUhRM5iRhrv2nIoNA9sbaaBpuKZB6hD21GI7+EQZejwNy1p9oLqoJwGK93fbjh0naBahTXhXgJJB61qbeiniOliUDgHZoEQRYWqXjkg2gSJeAFER5220AAianVQ8UlWh8HfoH6JqSJtnfn4Sx/3eqQGCup92XB0ZXAQaxalVWU3YpSWGAHebEn5Fa0SXURww0y1l8/FWU03cffqXVBQyklJZY1gqEQXan+UZTt96mNutB/mVLF2F13TcQgAmeu9ADFKgnbHyQXqqnh+Tu6ZtJvLYIQJ5MZTnaa0Nmm5Bo7gWllrQUmBudvnvadRFdZqkFJ7QfDtSxcRRTNEFihME3WIYgnlyQetTJ6299qtIkF61a+mujy3MtymuPBfH6oMcZmjurpGbV7O3B5faKs7+1gkjQh2V5p8HST9tLm04VBWkXakFSTVCH6tbkX1pFgkew195qeJLH/jJwwWVoJ1RYxrWdLLRBZ89KX00sYf9gL0N5J2oRzGsi+PFBdQWu5onmTvsdh3Tdreag8Y5mueQC1RvyjlkaaJajmMcNQHhDYpABBBU4KbpSQH6rHQChUw2pjd9BAFmaEym8JAIRA8kfAJDFftB3G7S8J98P6K7X7DTxDDxZ8SKEIU0ZaCDg2gP9PeSQm+dHO3ivN0R982VavPKwTgn0FGk3kW87Ag481HysGcqZkH2mUlgatbhHlDGywVvZz2pzGRxFbTCpM4l96lMbQM3kcbmL2oeY4xXhASlY3vnVRRJgL8bBTSIWuMDPjGUQah1kbV1LybcqMjsPGQ8ifDHeSRhQvQxUxzcMYJd/iic8g+REOgO5AFD/NGAV/EwMZaZ7oUQw1gHstYcBFhqTBhDFm7JASnBW2aESHWK/WdnNhBGJXP8SNaAMbCB6CjnAn5QnL15hoHgOqd0WT5XBNzakQylc2oe6CLgedW9L0pGVQhQWv9WdpG/3++O5sDfHgjhvdUCy4UKop0g12WgDDIGg6MCYENNBAJOrc4AGqjdJTW6ykceLgCRXBztSdpKTohvNKktoI8tB8o3NWkkDqpfEWwaMSXLcJA8p5p0z3hJpCfneKU2nOANhQAMNitsuPymjhUmnl2h7Jk0usIBBUsCFaGsAD3sIADaRc0e0q2YmhYWBvJyKevSSXxcPea4sfgiUccQehk6F3DpZ0g0jCGKjag7ZF6htc5YX01l1TDfKKZKmN/v8yOCslJhLyrFVdgSJaxYlmnNOhHqjpFaY+JiSwZ2mXyahi/y0maENIKZ5lXwICztDISAl71bkQ2W5psOfbWJTLeqBT/ZKl8TiTSeJPK0ptZo3mh8dyqMSrZm0vvWdhmoTmkuliUMhMJ0UAaV5W0oSy0AXMw9d7nRogtqooJqV3qjnABNoFgMoULSJuXVQ4fKqTpHj1opYgAESCGGWSsZCUQVVXPik46PqQ6O+Zqk3bgwn0e7kqjsRZmqsZKtKAgIAIfkEAAoAAAAh/wtORVRTQ0FQRTIuMAMBAAAALBAAEgBZAG0AhAAAADMzAGYzAJkzADMzM2YzM5kzM2ZmM5lmM2YzZpkzZmZmZplmZsxmZpmZZsyZZmZmmZlmmcxmmWaZmZmZmcyZmf+ZmczMmf/MmZmZzMzMzAAAAAAAAAAAAAAAAAAAAAj/AAEIHEiwoMGDCBMqXMiwocOHECNKfMhgosWLGAsyOFAxo8ePDAsIKIDAgEMGFECqfIhgpIADDV9WqLCy5kKRAgg0JLmAps2fCxh0FHigwM+jERcg2EgQAUOfSH82WLDgAAKnAEhiPcjAwUyoUVc6UFCgQFEBV4capICSAoW0YVUyQFDUKEmzagkOEMpgQQEGD+Kq9GsUwEiSeQcKPXDYK1jBGLUCQFC2qMGuFZbifRAhMWSJdBMwpWsAJkEGFR7Q5PhAqAPPnyHO5Vgxs+nTIgsMuEqzAuzYFIMuDWz5NIIAL0lG+Aoc4wOlfCsKLegggUgCfyt4ddD8ou+gVmEu/zV4lWdXCb67X9yYAMECooAP0i0QtG9UtzUr+GXwdyNgr1wtBgBgqakn0UYHtBZdAw8EdtoDDtTngGrpGUjRAQpAN1dV/D1YAYMHNOCABA+kZOGFDDQwWVUItHcbAAs8F11Qr53okIJddTXVAQck4KBACKQG4UxLBWVjQ6+FqNpifP2ImoKp1TfekQrhCFiDODrQAFtXUtAahRVwpB2VCTWZmpcRfDnXfyI24JpqrTlGZpkHaMegjwomSaKXOaaWWpoFzskVa1TRlqSbSvkmFFsjuvZeTT1lsJKV/NU5l0Cv8dWTa65J8JN9YnX2mpaaCqQoeF7JSKGgCWVJ4GU58v+V6ZisIpSkjhTUqJihawqlmom1GqSoawwKVeBicfalY2bBHpTphLFOmNIBMabpn2oA/oYRBY99xNGo0qGmoq8zPolSa5CipAGkFFDVEZO+UetgjlzGCOxg94LULl+Y9lUkqBEGFZR22tbKEQCqAfBdYmz1JBBb+TaLEJMMvdatxKYOVJVoDDGwHMYa0SbQXLoqZDHIp/mX2nncBajoTCgPlClqxpZMXay0xvxdhDT/9vJMBbOqoJgXKMSlV0GzGh1gniqE2cUgC8VhV0ajBHPMBDkwa8EvY61RdLO2XJC8YEXc7M6oESwsX1c/7PWpYgMQQUEEUy3Qo29jiNrI3NL/zdbDVns9Mm3f5szVAmajnClHy0Et+EE0+Zv2j4+XidkDovnp+EMwbxSBrtSmXYEFzCHV85OpAVgQ6ZCXThTHylalmH8bzbTqUa4d0HiFHc+EAbZZD8QjAwmk/BqNX4G5+UQV/EXhixNTeAG2nimbgOx3u3t8XzhCSLrrGT1twVYIfWW+sRb9vJ3tbGHgp0ealxhkmbZfee7yHdfHspAMuI+/02yp395atzK30OxT5+EWatxnAYvMhVszMQrURncBtv3vIkEiUGsq4D4Hoo5ywmrQ0z6TNmNd4IIacUzbEkO6tHWnAhewwAEl4hjVzK9ZFNLVABlCAQkgjT5B+koD/wXlmJb55n8QnFKdRvcjtySuOwwYop9AeBAIIC47A0KdzNQlNNEtxERiApqcFBYBt6DwM7abyRMJ8hebZW2NFlJNA2KIQjAJDmgxpEhXhkiQz0lMeSdB2lrgaCPfWOAC0JvY6Co3IK/w0WngExxqTriQNGKAkQobXcGgdEZBpfGL20lasBhAR0xCxI4KSWTl0va7hGRgbln7ntf61zaHmG+W74OIny6JtTHqcnS1xFhqmhaRKcbMixIBJMg+FDfZ2I50VLTR3pa0w4iwMpKF9F/dLvIaCgGPSr5LYzWtGcATWiCaUDwk6Szwt/AZEoadRAo8Z+KAR3qHQKlh3YlQA8XNYGJEPxyE5z7hOaR4Og1pslRPQMHUTPh1SnUD+owKh7lBm7jFXR0BqD8n0oDOESWTtlNNmvr2k5WphZMYQc1EzZdGuBn0IYwyiMVKRCFRgjSccPJTBpU1TjQa6YioFF4CVhrQ5H3HTTx1zUtBIjaB8WtXHc0pmDY4M54ZyksnUtFA6kW+AVElAQeQALVC1656aaorhIzNsDhysK9tLwITWIAVJ3C0qgZLRgODleRoUyjXvE1hBpGR1AbLNlM2ZKmGrUlAAAAh+QQACgAAACH/C05FVFNDQVBFMi4wAwEAAAAsEAAUAFkAagCEAAAAZgAAMzMAZjMAmTMAMzMzZjMzmTMzZmYzmWYzZjNmmTNmZmZmmWZmzGZmZplmmZlmzJlm/5lmZmaZmWaZzGaZZpmZmZmZzJmZ/5mZzMyZ/8yZzMzMAAAAAAAAAAAACP8AAQgcSLCgwYMIEypcyLChw4cQI0qcSLGixYsNL2DcOJFBgwYQGyTAwLFkQwQGEiR4OMCAAQgkTco8aGBAywEPEQz4OLMnwQQ1WwrwSZTiSwMTYxaV2QACz4c1YWLgsLRkAwYeUTa0meACBQwXlFa92JQBSpUIPwKtmfIqhLEcIVT46BIpQgQNaqJsgEEs3ItOgepMKBKlAbxOEfzdKLjAYcJ8rzq4CnIxxgYH8uYl7JQkBAMEElQuqrHk4bYJMTRAEEFAgAEI8PqdycAkggR4Rxt0mteAAJcf+1q2qDl32skoBzj+eCHC8IqURb9Nq/KAztgMEtR+LvEjXo8rGSb/WNBAAQIF3ClCMC/SrsEIGHg3jeA0PXSzCiLoFvixQQT9vAlnX0Qf6YeAAxA44NxAsfkXmUcY6DcgRPQ1cMFqCyDAgHsAfIRgf/5hFd6EDSHogGjm3bbdQE2J9F98Ds4UVk8RQkCBaHQZ5J9+fEGAo4AcWbiiSfrxeCBiBX3EAEwROHChi7MR5xN8H8oWQQUF8fYhj001tyCJqYUokn8RfglAZhA0Gd9/EEoIZkKs9ZdmjRV8qRYD+qkmp2pvKtSifxTw6KZA8vEG05P7lcRAlBUZmeBVihVUIWVk1ueThVRxFN+FCvAWaUGBjunRo0RdRYGmCn7Yn5ksygkiTESV/7YRTDYaGsGpSa4Gk3ejMtonAKpx6RR9u63qaQMI/orQSGmutupBzvKFF14XOKDsQarp+RFv0F7Fo2pLXiDrtQPVaGiyB2VH6ZIKPEVuQZON6q6klOnHwAVDvkvQBRDci9WnCV2o70KqXWAeQ/GBNbCflDUU3MIIJSYaQ5TyBXFB4PLpp0eTXkyQd/4RrN+T03ncoZII+FoufPNe3OzDDC2qsckPruawvSYLBKOSDl2oMrkRgszQhTjnfDKkFHsEodGqcbvQqz9f65RHLSfZFwROO8RXX1w/159HC+ErVaIssqihdyPBx7V+GWjANZAy7Uw2QU6Nm2RWo7lKGZMW8v/17QZdzwTjzBDtyuuKdffH9aJMNhdh0H0BzpTfdjvUrkBm6XbVYVg1RUGhFcjFZNMYtB31QxFA+LNUYmGw3VXoQbTStm9PJlUGQQ4bIWEZlA4B7ixinfvbTbF4emprV85fXxpEoDxTaoess9oU4alnlG83/ZdTJfc10vEYV2zQ4/DRh+Vzaj8Ot0N6agC88X0BeD536sMneUhk+kXf4zNO6ED8fHmfw1iHsd7BjETw6R31HAKBBZRPUhF6nn22traH9Op9YYHPu2CSALedTkmB0xn4uMOX/wmQMFZa38LexipsBedxMevfhBrQvBAGLH8txBgExPWmrd1PIQ5YUrb/CEYBcY1wKdk6IbTupcLx4StfA8pfQyZgISVerC8ps2JBLEDFJqalT9mKGm6KpzUJPkdBu1tI9B6Cr1/piWByMhpBCAeZ38lxbXOzGrCOOMO29a5kCulM6fg4QQwAbgPsU5v7TNYVQx4Pj4Bc4SAjqRCqeZFcFMwhQujosvgRcnyXHFDpFugQKJ4sgcrKpBkNYgEoDm6Rb2IeyzSVPk0Opy8KtNhG4tO7CnotZeRzXR4nkgHHpS+NS8nf2voSR5OoxnSP610yk+hJJZExbsGBJjJlFDkMuI1HhvJJjZpSOg9+EmER6GXQvkbJkgAORHyRgPtsOZGtmY5lF1qS9IjCgLVdHXObE0HAVx6HgNBhZQIWqBo/4wchtwFOLKw7HQO2RDKEMiCh56TI/vTUGQThSltq2xULh4QnCihJRJZMD1gaYNIHVA1RkYFAblr2JxwpTpRgEdfctIe54IDtY9ZcEhjpM5nniYUyeLkbsd410IS8hUvWHKYcCyKzUE6VOwEBACH5BAAKAAAAIf8LTkVUU0NBUEUyLjADAQAAACwRABcAWABmAIQAAAAzMwBmMwCZMwBmMzOZMzNmZjOZZjNmM2aZM2ZmZmaZZmbMZmaZmWbMmWZmZpmZZpnMZplmmZmZmZnMmZn/mZnMzJn/zJkAAAAAAAAAAAAAAAAAAAAAAAAAAAAAAAAI/wABCBxIsKDBgwgTKlzIsKHDhxAjSpxocALFixgzKjgAIaNHigsaQCRA4EADCh9TNlSwYMGBhwMMEFigQKXNhDJLErjJ0yMBAQEElMx4EmVPjweEChCK0QCEkxaPZjxAUgDBBi0RFnhJUEDLBVGlTuUqkGbWgkuDLih4gGbPsD6HAgipwEDNsi5JEjBwwKhYgRPgYhTAVyBLmnIdbNxLOKTfvympbn3p4CnigZWxIjCwIMFdyJEJbzUAwEFLqgQdIMBKwXRXuaAnuiRMAAFe0gVNL9A9UCnn2BNLFsg5cAHsgRRafzUgNEDJBY+BN8SaFDeAvTMNOmgQIaSBBM6dz/9s0FH6Q907rx8wwJlsQax5he5laR4iBZcD1yfgvBahS5cHrLeZbfU9tABuBhTQ0kxnFedYfwIxgFWBEBlH2oE08ceVA/fBx2FKEEQnFYYC6cYZZ/ftBl9IH3rUgAKfjQjgQBNkiEBLWDkQQQOcqWYdRjVChqEBCHDogIQL8rUbS22FBCGFEWH1XUgScgjBS03u9pWRG0EZEQM4tnUikixtB2Zfdn2F45Y2QSAYRdu1xtleCQDG4GF1fXeAkffp5piIFMH45EVaujTBAXcxwORpX7GEVQOmNQCmpLulBFaMF1FqGm8ANNDWdma1ZICEDOjIIXwKUCCSlwc9ZVprujX/qYCRoj5nFqTQQZciqwfpJukEZB5YqgPbmbbnmqEWRcGbvB6moo5StjQBBWA6gJmvajag7aC8lrYRS5OqaUCkDQqknGKIftWtQV+N1+eKzrIr6ldNrrruQEq21dem2/4m760HlnmvQdwdeGNllX1lb1nbfqoAAvUOTJByuxlwrocEteSnAgzwJyig3ZL74IpP3tdaXWoqJqjEGeumHJicTSgQfACAiXKj9LE8F1gaT7AtfPaq2t+jTy4s8awMtAZsijiCaa7MOiukmJO0breZz3ftGrVCXynan9JmwQgYWFsrxLS/QLuZ2pWPOVl2iSviVi5eCpw08aNv31ejawl1/922yW+j+uNBrQltNwBKvw3AU0Rai7jGhKPUEkrLOv52S0juTJPl/6oKeNnonqSwugkJndzcDIEsFgM1ooQtdGbrOm3GySGXXAUWJKd7i5AVfgACQpu10H0nfk3BBbonByqln96eu+oqpdhWa/BNgGlqLR0WraNJS6p88tRrTEEFRvFuE7nkiTq89tkG34DPIbl6EoffO2aurtDLBh25dwUG16w10R2qJlcjNZnsK9MCn1+UZxry5e88BSzgbjoUIrr9CEZ1uZGuUhcnVSGHfiZD3gNjR61CsaQmNQqgkx5WHJ5MrnAUMMn4rueQNTEtZ0Z5UU0UsBfIeO9236uA0f8asquTEM0gRgmJdDp4utpBZHZl0d1alJgxoznxL5AD4ggZZhEM2Q2IAxmiuaSzAORth3wOOQzTrLUA3HlwYJO7AP6mc6VZ7Sp5UcMf/RpyoOmthU+t2Zqu2vjAUOluApsKZNSKohjzIcRrUwOLaRRQnqjVj3MI8d6h1ES2vIGtkDx84fwUN5ekYRIhJpGJsk4pyCsqpAAM0iMpzaU7hiTFcC+skAS2eJMyKlIh6yFA0hSmvIYEBizMwuLxXAnM9jETIap6SjLF4hg0NiRAGNrfFpclNvMoJ3esNMxAhsMRHEEgnBIz2ekYkiABOACR9pOI2oBjMkcicXzr0ZwCpsX/rYW8j4yMVJ1LQAgAqlgPLLykUEjIx7eDpBA6FRAAVcAigQdM8154NBvU1uOki65LV+i0HUEClB7FKaufuZnZ6Sowy90pxkBtCVLZdMVQHD0EPpQTY7demDvSOURrhNSZrp5nGo8WZFm0rKXEaPpOKsK0oL57JqsoAE4KKOABF0HkfVLVz2KSUXl2eQANH7JV2PUqo7Ep3AIsg9IavtE/9LPmXywWKuFlRKrIgY4MvTrBm2xkNd9qq30GkrOjNlGECgypP9fpINR9RAI0XObJKkA/QOL1IE7RnaIIcpgCNcCBOF0m8hz4S9olb1PZTA2vxmcBZKnoeA4grYMcRbayRBZ2XSDE6WHol7sLVAYzRTlL9hw71dwxVHSZFd19IocXl4y1W+CDjgRXKDWaHC5vlV2W/4w6S+0kD1jA6u5EklMU0AQEACH5BAAKAAAAIf8LTkVUU0NBUEUyLjADAQAAACwRABkAWABkAIQAAAAzMwBmMwCZMwAzMzNmMzOZMzNmZjOZZjNmM2aZM2ZmZmaZZmbMZmaZmWbMmWb/zGZmZpmZZpnMZplmmZmZmZnMmZn/mZnMzJn/zJkAAAAAAAAAAAAAAAAAAAAAAAAI/wABCBxIsKDBgwgTKlzIsKHDhxAjSpxIsaLFiwkZLHiAsaNHhQVCHqjwsWRJBAIQFGBA0qTLgwwcPERwoGHLlxU1MkDwsQAClhVvlmRQ4EABAx2LMlgaVKjHAgIEBBBQ8+IABAMcMMBZEYFKAwIKKBRgYSfXswK9UlW4VOOCrWi5eh1bYIGDBUYtxMWpcuyBt0sPwEXoc+/EkDwRBkDQQOsCBBI4GgwbNrHhhz4PIEX4syxRBw1IMpAMNQDUBXovN9R8YMABywZ/7nQw4YHWwEtLhxysmq1Xn2IT/ixgobiFB20ZGIVKoGhvhjtVriVclGdVB561/la54PlC5QgMhP8kTDVB1YIMGvz02rbgAqe9LTSIfp5gSp8IEsBGWNwgS97PWaBVfQTh95ZzFAH4HHINdHeQT/rpNJp3HWln0APIvfYWAm85aJJbCnrUVn063dbYUo+FiNF/HroUHUGj7bRUcTElsJJAWg30gIBMUaiQYMqlBgBoC/i01I4xCXaABT8NmdxS2PlokGNL/YThVtj9pNWOZXGp5Whd3jaaZFIKVOUBByRQI09tIRdkcmbGOBpotjkgAW1lminmaBzKlhyQyNk10JGgCUgjlHkCcKR8A7IJ5V9Q5qbSVhyOKKNxMuWJpANXmjckp5aO9phRf62nUaUMGJqoQEge+UBjtZX/tedtSKo3354x9ZjnkXJW0MCVO85HE5AH/CrgAhsdh9xdO7UoZa4jCjgBdjHZNsGpgNmW3gMredZsk4nShm1+yAGA3LmgJYfXBING+laaiJaZK6RVwiVfl6mKiWact/mp3FsOwNdbuv7mqONxAmrbY7XQCkYtYGV6VuQDaCZH5nGhhVbuQA0cpxyKiiLrrHecPtDkfB9v1GYF58YLI4ocKkrBqhb4qqiTTx4AGrVUIuSmiuFKMNqJfaaaL9GrJgiAXrJ5dly6KG5FYNIPMXABqNYKKKZWmQ4kJNWDRlmQZ75yGlkFH1fgIbVAl/nYAo0dhKF856KM7GA8tv3sx1+7/5c3ABUE3KLRXYMNdeHoqaxcQsaB7TW0cZKpaJtM9b30xo4v3Z6ZzhqH6VI3pYq25xkUJ/nllqNl6MgFYe7tAxUkjPacHSNgnL3LXuB5XOnu65+lS2Mq9IyGFncbjal57vGOuqfuEdoLKDC1mUAygIHpy5/KQAJcFlc6wqwi7PmOtt1u0gMSIGCwf1xHimLegNmF3OePT9ux7tc3z0DpV38k6oRyu1ODjIaaqAEJcQ2ZX3++p0DnRSRvMWEXmVDjJq4ZbzDNc2BDiNc85DQPI+JT2JLMdLv4cWV+1zOeA3QHwuNMDkh6YVuRLnOBVFngAqGxnQYhYgFAmQ5y8cGO8f9g1RGjoe94tPIO+Wh0OoqU5V4oExfrCLLDizDgbHr7Dvo49DO2rY9CsDLdRGSokXI9zTPh6tj1JDIjGHntiau6mu10h0CFqIp6qRJIf5Imq8YtpCU33GPIAOg4lkxLd00kSAQEUzzJVOktmdOj8hIpELXZpSyMlKSuUoU5ee1ohTRKiK90ghdOGs9rsMvjqmLSxywCqTMINGIWVZOrUCpkAdeClxA3ZjSdQOQ9AvOfDSk5qAs+IFaASZ6AIFKBCkigmWdZwAV2xJAuTas4RglSFfljmztNsSOm++Yb/fQA86hJiNs8iIAiwBXjEHNsKdFhOQXTGI+BLyfQXJGxBLn/kB4a4AABeCJyZociLjUlmBE5gASKs0aH0EQ8HBmNBOQ4kgbdc28WuF4nF6KWgbCnl8lMJ1pi0jxxcrQvsCunlsQmpSX10KQgUUlwOmanQ8VOpC6ZqELr6B/OoKSYDUMWQuPSqoYgi4r98YpllDqQZlYgArN0yZJ8+cBARpQg/yROU/P5HAk9kJNCjM1HVwnTKSlHgbExAE2e1Z/H4FSTbURIVHFivrkaxI+SLEuiPPZFigiFYTw1zA+pOpS26IVL7zSJ+CSgObs65G+aK84H1Tk+AGHvO4DJEWE/QiMHSRYDXFPnA6Yp2fGJT3kw4Uh/XFYS7HQNTLv73fEy2r3PZuoOAoHEwGQLElhwpkdPNiTkXd1JO93SVlmpSmHC0GMYvGmtmt9TLuXs1CZDXVFTtqym7i6g2+tRF0yOURNQ9tq3CIgTne40XnFi18xlRpKrjKvtaT3H0kg+hHyoNF1v7cvf/kYkIAAh+QQACgAAACH/C05FVFNDQVBFMi4wAwEAAAAsFgAcAFIAYQCEAAAAMzMAZjMAZmYAmWYAMzMzZjMzmTMzZmYzmWYzZjNmmTNmM2ZmZmZmmWZmzGZmZplmmZlmzJlmzMxmZmaZmWaZzGaZZpmZmZmZzJmZ/5mZzMyZ/8yZmZnMAAAAAAAACP8AAQgcSLCgwYMIEypcyLChw4cQI0p02MCBxYkYM0p0YEAAAgcYNBKkEFKkSQQJDBhIkMGhRQcRTMpcmAAAAocdP5acqdHBTAEJDsDkmbFixZkoaxLF6KBBzqVQNyJA0FFAQQErE76MKtNBSgEFrA7EKiCAgYMGjN7k2jNBULEDLWI1sFZgTosRFAg8gFUp24deE9QFEMABggYpB/f9GMFnzgBw/zp0W9CAhAeGKzxoIAHmgQFCMVhEgBUyXckP6R4oCNOBBAmNM7xE6TpDgpcdC6RF3VAl1YIZgldMgAF2cLcvW6ucy5shaQMEGD7IcDnDAbcYHjQWfNtn84Qor6v/dEh6qoLGD7p3/q4wsNvIClUeQFnBYYUGLZtbdJuyN1AECwzWXgQNFMgbSAgowB9BFklgEH+3JWifaA3wFoEFnV0EgGyN4SVBfiulpCBH7EGUQQQZPLAWSK29hCIAghlgmEUVlugSdRfB9sBrsLmm4UuyyYZAjx06aGNBCMjmlQQVZBhbZycC0OCHsIn2kgQV1XYkg07OtkBtRs7mQHAWNBbBji7CVN+WUn405GbcJTfQazhSJ5p2KL5GY0xs4nZihsk1wCdBxmnnI5RjUrelYYh95FqT+031kUEOGNpdUwlUhOWRLyHWAG0zYvmSgrQJhBiLESY3FKeqKuDoS5mO/6aSjIZ9ZGhyRHpnY2OMHepVh7LKOFUDAbo4JJ0SWLDVkUo26BqKPkZwGZdefbqfAxUY++pOzUmLI6KGOsnjZcBmmoACXjXb1GEGsgfTdIj6xCRsZdYLkp7JNfapm4aV2ZSuqOHV2nZ1aacdlGdeKC2w+XaGwGZYciuZRdkll+CgBXVGZbJUmhkbZjQKKFlFZo4Ga40KUXdiitRV4BcAEojmrmhMdnjqpFJWlN9AjCUrbYtszqlwhlNhavGq+6H7rGydoRy0lMHJafJ+FWF2mFcwlcnhbE8L1JiOAHeGnsWxSlum2AJ3veGHGCsJ8m3dMT0mig+IRiDAah80psxfZ/9H8nRnnkij03kXFAEGjQ2kcqLUHeyvxIUTlF2UD+qZ+JgxR/6RkXH9i7fiHQbZmAbBBSfQA0dmmfhAWeKVAemlC2RRcDEHSeV0GWwQnAbuzghwvs3erTOVFdi5+8qv1xm7ZNBqGNwGv9rJMLAVJVkR6bpLyUEG26sMJe1c+QjTh7YZpmTyGkCv5GEgnyol1rOXLv9rOqMOleBjakd7k/JvXa26TUEIB4AkP8B9ziQYKF2iYoY5DQ3kZxcJTmx2lpAIsIRttBsTT/DzLIotS28wkc2cTAeRL30ogcsTiQSzZS3OISRaB5TI8ByQPhJiJGpnegnvGFI6jKkQANuJAOz/JpKBop2oQxhL0kFwFEOmRC1IKoPIjLKVL+1gaDsKYk3UlsI4lVHHAhCxUoUkSLuKuSqEApFghwhiw4ygaGUTdKFCKLSWL0pAL0D0XW2u1CTC8WRMgATfQoooJQZhAAJrOh2HMAPBkv1lYCkEoR8jUIHDZSxFIFkAii70wfBNsIk5+1wGEog37bgsjbjLXMAwR0EtHsZELvReK9nCuIRUDyGCo9Qs2aOpSBIkLyJ7nwNlh5c+6Wx7ErjAEhPiS99lBAOQiwhiSicBBuiNmXJ8H2IMIsKFQBMkfgwjSzLgxyhKMTZsJF82C1KcSlZgJyCByEcEOULSOSicF+JmN4lJ/yMejhJjDYAmRDgzS+Rl4AJOKQk5MbVLLUIPlHOUyHk+x8pRYuAwDguZOVPWULbgjCBZKt03yam0cxmgOKVjjNqGqThWks4nLXLKbVQWgQApgJpzKtGqgPNG2uUnUdJCoWzockbyCQcmpAuYol5omBp+yGt1wwyiGkOXECZgOxRb51KEk5DiXAmn3fGLwurmAH8pIC00aiNUoBVOxT1PNLBrCWUIUjd1UgdYr3oRtIgim5fhkponIh0C5gOfSwEpUa6jUVM60NaIZLCxbJRfa9wyn8EE5WVgIuVQwIkBCpiEiSxVyHq2JxDKnmUgbskKavM1EAx0QKAiARIGIJuRENcVdq5RESHloELZl63kOh3VyM60OpMFoXYlv5mIUfuXu+DeUK0HgRBE/+pTDkighhoI7UAJl7yniiSuLQHsh7a3vdn1KJpSTOeJrNQTIXIvefCFXYayZBSizO4jGmjbPh0iuNt8bWWtsZ2aEkgUr67OrZQzalIR8r3S6Y6VeOmpLz+7RUJBiZjNVRJ13wte5tKTr2pdKMBG9yFQvvfEE5AvdYj7F/L9zjLQzdhANGBU77KpOMX5pYsiF5HZASw4KCRIgmgbuWJGtpUB7QCPJcK2JXcFvbwJCAAh+QQACgAAACH/C05FVFNDQVBFMi4wAwEAAAAsGgAeAE4AXwCEAAAAMzMAZjMAmTMAZmYAMzMzZjMzmTMzZmYzmWYzZjNmmTNmZmZmmWZmzGZmmZlmzJlm/8xmZmaZmWaZzGaZmZmZzJmZ/5mZzMyZ/8yZ/8zMAAAAAAAAAAAAAAAAAAAACP8AAQgcSLCgwYMIE1aokLChw4cQBTZ4EJGghoUQKmrcWLABgwYGLFS0kMAAAo8cU1Z8YEAAgpARXx4w0ECkypsOEwgQoLEkgQMJcAodSrSowwZDGyA1elPpR5wTGTC9+dEjggMbS5p0OjXlxAYIBAQwULGlSwVfu3L0CPaAALIPLbwVUEBAAgQTKKrV+LWkTgRSCT5wMFAp2JYGDjywuZdvgsdflSZgAKGm0sEPDCPw62Bp44oNHkOgUHlwhQYQJpS2YGFx5omPHwT93FPBZqkQLKTOvdiCgwoOcld2kEAp7Y0GWlZgTNC3ZwATKmg1MPt4zOQCGjB8mBnxZusRk9//PYCgYgXxNJ+DR3iS+uOKdv2GXt/w42Og1R8mIP/4KX2EDJxk23sQmVQSWob9d5BSFVRW3AMZNVSZZAlU4JqCBT2wXG5KOVDVQAh4ONtEwU1Emm+ZYTiQBTXpNlFluRHElkRKcSgci8wpiNoDFLyG2kQ0hgYWWAwUFxqPreWoY5HADQkkQTEOVJphEPiookQ+3jUZREpt1mFmeqk42mSSgfWQl8WdlFmEKloIZpcLFKnAbEUWCUBothn2IwSBYVgVWAukGdpLRpqUJ0j7wabnScbRVxUCtgUIklKGInDSpbZRJ1mAlg7JwKf0MRrZkGsuVSNpqCWAmZ6sbrneV6VC/+DAYKUJJFyNe0Kg64+vveaoiYONitmss+7YI47aFetblT1u9+pqPJb2W2cARKsaraihqJtuDQ6m4wOqbeurQagteONoE+pI4mVdlgfRpVSCC2aoX1loWAJzGhRmYXK+qNqU632KK4tEOllYgnc6aSRqwJ0GGHiMglslq12yO9nCk1FXlWssTggqbROx+FprEFha2UmdUcwqnzAem5qG4IVbmcgsUjBQUKxSxKtlvM7amnrW7egba/sCMHNuhFXbYm7cznelYS6yCBrRMCpwZXN8csza1qxhcMHWX4d8IptXA8BasqdlC8HXW3MIoXYQAGeBs1cLx8DZLX5tdmUZNP+AwdkMOMBigxTkR9/WArVGAbyGPQBmVQSH9lFmCMzNNGufge01hIk3zq5AE1jW9shwLiZ6Bm0bxVpuqI8sEsGZFYn5wcUNdAFbquq595BJzo7Ttn3/2IDehQULtNELDqaaqVwz3aJuN7HW93LSEy2jvBtdlmJhzb/NdEqrq7110XfqlvRK3+vbonbs+x5R1IpvjxDifK2eUOPF1kR2XLpFe3xB/eNLyP4nIyrRzyFtWx4BBRO6PkHkI1KDiOvsNz/pXYYv44KSbXI0Ifk9UCmpM8jd/qa7qbGLIphh1I2+crbsJWBbSgLA3VYTw4asCjWkCV2X0OIjdi1wQafpDfn/8JakjSwnW6biE5VIE0TBPUkjDKCc+2xlmLtxhGk8KgjT+FQtGEZpLZDriHRQEhe6rWhBP2rOtnByqfMJBFIPsFpBFjLHhThQQr8xDwMq4EDtTIBcZBQM0BZCN/ZZaCT7a8hCtOOsPZpRIgaJIESOWEM0joSCD4HgQKw4lJ+JkEyRrKRGEHCB4smRKk4E5Ek6skahWIZG7rqJlTqCsIHE7ocQqUyfwCWUA8rIl4mDXi+ZU5NYdkWYBimlKyWZsEeWbSRPNJsoI1KZ+xmEQ7h0SGaUWRQWQXBbGfHm87jmlGwmpJLTBAAha+IatoClN+HrFIRIQrkuURAvfIRIDLeG/zqFSICPgPEQqxCwgJA9gAEGUEB6RsWoqnwEUp/64zm5pi+uNa+Op8kLWibHlq11JlhqwhsIa2QTDdExlDDMQCJlhjoLRGBrg5QS9cSVP6KxhgIgxBHRPLOca67OAhf4G4dESBn9de8oU8qPYVImpOJUiWBH4Rrqqni8tH3zojlxGkEe8xhjclWrE12bi2ClkJ8Jh22I+99+4EIQ97D1jVxFSG7YlhuhnoaiCDliR0OmK9awrSDU2cxbAeAXw80EKCjtWthc5BriKTJuUxrrBXrzRergB7AJGACBBMLVVdoybE6d4TjTyT2Lcm1NBolrQbhquPsYzmj9q0lQsboReIN2Da+gMWfnqmfRRI6knVKyjgVa+oCvffE4EfItAg/CGOXSpgJsq4mMAMDNvMH0mT4VaWn18rafYleiK1rdYrQoyST1hlwKCpAtWQTKDM2qOULKEQMk4CcZBTFHkRPkYhJ5RwwBtYVqtIADLYpd5v6touOFEjAL3BAQulEizmRwg9cTEAA7\" />"
          }
        },
        "8f3c63bd1fb04671bcf40b1c1f555080": {
          "model_module": "@jupyter-widgets/base",
          "model_name": "LayoutModel",
          "model_module_version": "1.2.0",
          "state": {
            "_model_module": "@jupyter-widgets/base",
            "_model_module_version": "1.2.0",
            "_model_name": "LayoutModel",
            "_view_count": null,
            "_view_module": "@jupyter-widgets/base",
            "_view_module_version": "1.2.0",
            "_view_name": "LayoutView",
            "align_content": null,
            "align_items": null,
            "align_self": null,
            "border": null,
            "bottom": null,
            "display": null,
            "flex": null,
            "flex_flow": null,
            "grid_area": null,
            "grid_auto_columns": null,
            "grid_auto_flow": null,
            "grid_auto_rows": null,
            "grid_column": null,
            "grid_gap": null,
            "grid_row": null,
            "grid_template_areas": null,
            "grid_template_columns": null,
            "grid_template_rows": null,
            "height": null,
            "justify_content": null,
            "justify_items": null,
            "left": null,
            "margin": null,
            "max_height": null,
            "max_width": null,
            "min_height": null,
            "min_width": null,
            "object_fit": null,
            "object_position": null,
            "order": null,
            "overflow": null,
            "overflow_x": null,
            "overflow_y": null,
            "padding": null,
            "right": null,
            "top": null,
            "visibility": null,
            "width": null
          }
        },
        "163e0e879d1e4f6cac5db4284427654f": {
          "model_module": "@jupyter-widgets/controls",
          "model_name": "DescriptionStyleModel",
          "model_module_version": "1.5.0",
          "state": {
            "_model_module": "@jupyter-widgets/controls",
            "_model_module_version": "1.5.0",
            "_model_name": "DescriptionStyleModel",
            "_view_count": null,
            "_view_module": "@jupyter-widgets/base",
            "_view_module_version": "1.2.0",
            "_view_name": "StyleView",
            "description_width": ""
          }
        },
        "f9cef9e646b6400c87519d50ec125793": {
          "model_module": "@jupyter-widgets/controls",
          "model_name": "HTMLModel",
          "model_module_version": "1.5.0",
          "state": {
            "_dom_classes": [],
            "_model_module": "@jupyter-widgets/controls",
            "_model_module_version": "1.5.0",
            "_model_name": "HTMLModel",
            "_view_count": null,
            "_view_module": "@jupyter-widgets/controls",
            "_view_module_version": "1.5.0",
            "_view_name": "HTMLView",
            "description": "",
            "description_tooltip": null,
            "layout": "IPY_MODEL_7cb97b2d533e4a009d27f0c520147038",
            "placeholder": "​",
            "style": "IPY_MODEL_813f1b93d10948d39137f88c6cfe0f93",
            "value": "<img src=\"data:image/gif;base64,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\" />"
          }
        },
        "7cb97b2d533e4a009d27f0c520147038": {
          "model_module": "@jupyter-widgets/base",
          "model_name": "LayoutModel",
          "model_module_version": "1.2.0",
          "state": {
            "_model_module": "@jupyter-widgets/base",
            "_model_module_version": "1.2.0",
            "_model_name": "LayoutModel",
            "_view_count": null,
            "_view_module": "@jupyter-widgets/base",
            "_view_module_version": "1.2.0",
            "_view_name": "LayoutView",
            "align_content": null,
            "align_items": null,
            "align_self": null,
            "border": null,
            "bottom": null,
            "display": null,
            "flex": null,
            "flex_flow": null,
            "grid_area": null,
            "grid_auto_columns": null,
            "grid_auto_flow": null,
            "grid_auto_rows": null,
            "grid_column": null,
            "grid_gap": null,
            "grid_row": null,
            "grid_template_areas": null,
            "grid_template_columns": null,
            "grid_template_rows": null,
            "height": null,
            "justify_content": null,
            "justify_items": null,
            "left": null,
            "margin": null,
            "max_height": null,
            "max_width": null,
            "min_height": null,
            "min_width": null,
            "object_fit": null,
            "object_position": null,
            "order": null,
            "overflow": null,
            "overflow_x": null,
            "overflow_y": null,
            "padding": null,
            "right": null,
            "top": null,
            "visibility": null,
            "width": null
          }
        },
        "813f1b93d10948d39137f88c6cfe0f93": {
          "model_module": "@jupyter-widgets/controls",
          "model_name": "DescriptionStyleModel",
          "model_module_version": "1.5.0",
          "state": {
            "_model_module": "@jupyter-widgets/controls",
            "_model_module_version": "1.5.0",
            "_model_name": "DescriptionStyleModel",
            "_view_count": null,
            "_view_module": "@jupyter-widgets/base",
            "_view_module_version": "1.2.0",
            "_view_name": "StyleView",
            "description_width": ""
          }
        },
        "3b345b48f87e4adcbff84aa3bd351350": {
          "model_module": "@jupyter-widgets/controls",
          "model_name": "HTMLModel",
          "model_module_version": "1.5.0",
          "state": {
            "_dom_classes": [],
            "_model_module": "@jupyter-widgets/controls",
            "_model_module_version": "1.5.0",
            "_model_name": "HTMLModel",
            "_view_count": null,
            "_view_module": "@jupyter-widgets/controls",
            "_view_module_version": "1.5.0",
            "_view_name": "HTMLView",
            "description": "",
            "description_tooltip": null,
            "layout": "IPY_MODEL_949596bce61f4013ac2f770815553df3",
            "placeholder": "​",
            "style": "IPY_MODEL_82f34b46e866476e9f81950260ac12db",
            "value": "<img src=\"data:image/gif;base64,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\" />"
          }
        },
        "949596bce61f4013ac2f770815553df3": {
          "model_module": "@jupyter-widgets/base",
          "model_name": "LayoutModel",
          "model_module_version": "1.2.0",
          "state": {
            "_model_module": "@jupyter-widgets/base",
            "_model_module_version": "1.2.0",
            "_model_name": "LayoutModel",
            "_view_count": null,
            "_view_module": "@jupyter-widgets/base",
            "_view_module_version": "1.2.0",
            "_view_name": "LayoutView",
            "align_content": null,
            "align_items": null,
            "align_self": null,
            "border": null,
            "bottom": null,
            "display": null,
            "flex": null,
            "flex_flow": null,
            "grid_area": null,
            "grid_auto_columns": null,
            "grid_auto_flow": null,
            "grid_auto_rows": null,
            "grid_column": null,
            "grid_gap": null,
            "grid_row": null,
            "grid_template_areas": null,
            "grid_template_columns": null,
            "grid_template_rows": null,
            "height": null,
            "justify_content": null,
            "justify_items": null,
            "left": null,
            "margin": null,
            "max_height": null,
            "max_width": null,
            "min_height": null,
            "min_width": null,
            "object_fit": null,
            "object_position": null,
            "order": null,
            "overflow": null,
            "overflow_x": null,
            "overflow_y": null,
            "padding": null,
            "right": null,
            "top": null,
            "visibility": null,
            "width": null
          }
        },
        "82f34b46e866476e9f81950260ac12db": {
          "model_module": "@jupyter-widgets/controls",
          "model_name": "DescriptionStyleModel",
          "model_module_version": "1.5.0",
          "state": {
            "_model_module": "@jupyter-widgets/controls",
            "_model_module_version": "1.5.0",
            "_model_name": "DescriptionStyleModel",
            "_view_count": null,
            "_view_module": "@jupyter-widgets/base",
            "_view_module_version": "1.2.0",
            "_view_name": "StyleView",
            "description_width": ""
          }
        },
        "c2b278d0a80e4b23bf8a2fa5b08d1116": {
          "model_module": "@jupyter-widgets/controls",
          "model_name": "HTMLModel",
          "model_module_version": "1.5.0",
          "state": {
            "_dom_classes": [],
            "_model_module": "@jupyter-widgets/controls",
            "_model_module_version": "1.5.0",
            "_model_name": "HTMLModel",
            "_view_count": null,
            "_view_module": "@jupyter-widgets/controls",
            "_view_module_version": "1.5.0",
            "_view_name": "HTMLView",
            "description": "",
            "description_tooltip": null,
            "layout": "IPY_MODEL_bf51e51b6d724a239ef2243d6cd660d7",
            "placeholder": "​",
            "style": "IPY_MODEL_321955aca334460eb3e38b7c83865212",
            "value": "<img src=\"data:image/gif;base64,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\" />"
          }
        },
        "bf51e51b6d724a239ef2243d6cd660d7": {
          "model_module": "@jupyter-widgets/base",
          "model_name": "LayoutModel",
          "model_module_version": "1.2.0",
          "state": {
            "_model_module": "@jupyter-widgets/base",
            "_model_module_version": "1.2.0",
            "_model_name": "LayoutModel",
            "_view_count": null,
            "_view_module": "@jupyter-widgets/base",
            "_view_module_version": "1.2.0",
            "_view_name": "LayoutView",
            "align_content": null,
            "align_items": null,
            "align_self": null,
            "border": null,
            "bottom": null,
            "display": null,
            "flex": null,
            "flex_flow": null,
            "grid_area": null,
            "grid_auto_columns": null,
            "grid_auto_flow": null,
            "grid_auto_rows": null,
            "grid_column": null,
            "grid_gap": null,
            "grid_row": null,
            "grid_template_areas": null,
            "grid_template_columns": null,
            "grid_template_rows": null,
            "height": null,
            "justify_content": null,
            "justify_items": null,
            "left": null,
            "margin": null,
            "max_height": null,
            "max_width": null,
            "min_height": null,
            "min_width": null,
            "object_fit": null,
            "object_position": null,
            "order": null,
            "overflow": null,
            "overflow_x": null,
            "overflow_y": null,
            "padding": null,
            "right": null,
            "top": null,
            "visibility": null,
            "width": null
          }
        },
        "321955aca334460eb3e38b7c83865212": {
          "model_module": "@jupyter-widgets/controls",
          "model_name": "DescriptionStyleModel",
          "model_module_version": "1.5.0",
          "state": {
            "_model_module": "@jupyter-widgets/controls",
            "_model_module_version": "1.5.0",
            "_model_name": "DescriptionStyleModel",
            "_view_count": null,
            "_view_module": "@jupyter-widgets/base",
            "_view_module_version": "1.2.0",
            "_view_name": "StyleView",
            "description_width": ""
          }
        },
        "ab399786c7904c2a993a74ff41f6e108": {
          "model_module": "@jupyter-widgets/controls",
          "model_name": "HTMLModel",
          "model_module_version": "1.5.0",
          "state": {
            "_dom_classes": [],
            "_model_module": "@jupyter-widgets/controls",
            "_model_module_version": "1.5.0",
            "_model_name": "HTMLModel",
            "_view_count": null,
            "_view_module": "@jupyter-widgets/controls",
            "_view_module_version": "1.5.0",
            "_view_name": "HTMLView",
            "description": "",
            "description_tooltip": null,
            "layout": "IPY_MODEL_6e05f7b9f3dd4d028baacd0a5b0d8cd8",
            "placeholder": "​",
            "style": "IPY_MODEL_7f4351712a67439c992ceae72ad46c7c",
            "value": "<img src=\"data:image/gif;base64,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\" />"
          }
        },
        "6e05f7b9f3dd4d028baacd0a5b0d8cd8": {
          "model_module": "@jupyter-widgets/base",
          "model_name": "LayoutModel",
          "model_module_version": "1.2.0",
          "state": {
            "_model_module": "@jupyter-widgets/base",
            "_model_module_version": "1.2.0",
            "_model_name": "LayoutModel",
            "_view_count": null,
            "_view_module": "@jupyter-widgets/base",
            "_view_module_version": "1.2.0",
            "_view_name": "LayoutView",
            "align_content": null,
            "align_items": null,
            "align_self": null,
            "border": null,
            "bottom": null,
            "display": null,
            "flex": null,
            "flex_flow": null,
            "grid_area": null,
            "grid_auto_columns": null,
            "grid_auto_flow": null,
            "grid_auto_rows": null,
            "grid_column": null,
            "grid_gap": null,
            "grid_row": null,
            "grid_template_areas": null,
            "grid_template_columns": null,
            "grid_template_rows": null,
            "height": null,
            "justify_content": null,
            "justify_items": null,
            "left": null,
            "margin": null,
            "max_height": null,
            "max_width": null,
            "min_height": null,
            "min_width": null,
            "object_fit": null,
            "object_position": null,
            "order": null,
            "overflow": null,
            "overflow_x": null,
            "overflow_y": null,
            "padding": null,
            "right": null,
            "top": null,
            "visibility": null,
            "width": null
          }
        },
        "7f4351712a67439c992ceae72ad46c7c": {
          "model_module": "@jupyter-widgets/controls",
          "model_name": "DescriptionStyleModel",
          "model_module_version": "1.5.0",
          "state": {
            "_model_module": "@jupyter-widgets/controls",
            "_model_module_version": "1.5.0",
            "_model_name": "DescriptionStyleModel",
            "_view_count": null,
            "_view_module": "@jupyter-widgets/base",
            "_view_module_version": "1.2.0",
            "_view_name": "StyleView",
            "description_width": ""
          }
        }
      }
    }
  },
  "cells": [
    {
      "cell_type": "code",
      "execution_count": 1,
      "metadata": {
        "id": "Jy927HoyoZxj"
      },
      "outputs": [],
      "source": [
        "import torch\n",
        "\n"
      ]
    },
    {
      "cell_type": "code",
      "source": [
        "!git clone https://github.com/openai/shap-e.git\n",
        "%cd shap-e\n",
        "!pip install -e ."
      ],
      "metadata": {
        "colab": {
          "base_uri": "https://localhost:8080/"
        },
        "id": "v1prNmj2ofpt",
        "outputId": "e888116f-b4b5-4200-fdd7-7d895c147d2d"
      },
      "execution_count": 2,
      "outputs": [
        {
          "output_type": "stream",
          "name": "stdout",
          "text": [
            "Cloning into 'shap-e'...\n",
            "remote: Enumerating objects: 316, done.\u001b[K\n",
            "remote: Counting objects: 100% (30/30), done.\u001b[K\n",
            "remote: Compressing objects: 100% (20/20), done.\u001b[K\n",
            "remote: Total 316 (delta 20), reused 10 (delta 10), pack-reused 286\u001b[K\n",
            "Receiving objects: 100% (316/316), 11.70 MiB | 5.23 MiB/s, done.\n",
            "Resolving deltas: 100% (39/39), done.\n",
            "Updating files: 100% (224/224), done.\n"
          ]
        }
      ]
    },
    {
      "cell_type": "code",
      "source": [
        "from shap_e.diffusion.sample import sample_latents\n",
        "from shap_e.diffusion.gaussian_diffusion import diffusion_from_config\n",
        "from shap_e.models.download import load_model, load_config\n",
        "from shap_e.util.notebooks import create_pan_cameras, decode_latent_images, gif_widget\n",
        "from shap_e.util.image_util import load_image"
      ],
      "metadata": {
        "id": "1zggDEvgok2k"
      },
      "execution_count": 5,
      "outputs": []
    },
    {
      "cell_type": "code",
      "source": [
        "device = torch.device('cuda' if torch.cuda.is_available() else 'cpu')"
      ],
      "metadata": {
        "id": "k6s0H-Z1pjws"
      },
      "execution_count": 6,
      "outputs": []
    },
    {
      "cell_type": "code",
      "source": [
        "xm = load_model('transmitter', device=device)\n",
        "model = load_model('image300M', device=device)\n",
        "diffusion = diffusion_from_config(load_config('diffusion'))"
      ],
      "metadata": {
        "colab": {
          "base_uri": "https://localhost:8080/",
          "height": 98,
          "referenced_widgets": [
            "7c3e4c7b8ad141e0845cc39eed392d2a",
            "881bd41eb2b34078a32ca66717a63560",
            "1dfac214fb73465685b4d9f6eb5f438c",
            "b8b83de050194556b232403f58b70cc1",
            "d90d7fc99f0746e2be74e8228e129e93",
            "b1d3c660b5cc49e0b043a89ae6a02631",
            "8d0e1489d7334b19bc4c02034248398c",
            "466c8ce8b888456581fc0b11955243d9",
            "59f1cdedf5b84f2e8cb447a6256ee2e4",
            "d7488bdc6bea4d34ad78db7221ad17f6",
            "76cad754825d44e29651eba65c81d66b",
            "93a11f13423f4fb8aa1edd603b7e6c37",
            "68e23fdb6d034e7f8cef2cfa761e3d5c",
            "1a19b5de4f644ea7b7c53f3bd98e15da",
            "c66bad1f29744fc6b64d982a97efda7f",
            "6a459642dfdf4941bb8c9a3674105762",
            "b8665bfec02548b69d6ee5a43832bd97",
            "ef89e30e27b6480e8a81d6ab32499c0c",
            "600010075482408eb192f07c5d4016df",
            "3ce9815c542b416890dcfbe04634b49e",
            "b5dbe8d48b84474495fb444f53e41860",
            "1b33d08593a54e65a9376728f665da85"
          ]
        },
        "id": "xLw-F5huplbM",
        "outputId": "14fb01ab-3795-4130-c821-cc212c41987b"
      },
      "execution_count": 7,
      "outputs": [
        {
          "output_type": "display_data",
          "data": {
            "text/plain": [
              "  0%|          | 0.00/1.78G [00:00<?, ?iB/s]"
            ],
            "application/vnd.jupyter.widget-view+json": {
              "version_major": 2,
              "version_minor": 0,
              "model_id": "7c3e4c7b8ad141e0845cc39eed392d2a"
            }
          },
          "metadata": {}
        },
        {
          "output_type": "stream",
          "name": "stderr",
          "text": [
            "100%|███████████████████████████████████████| 890M/890M [00:11<00:00, 82.8MiB/s]\n"
          ]
        },
        {
          "output_type": "display_data",
          "data": {
            "text/plain": [
              "  0%|          | 0.00/1.26G [00:00<?, ?iB/s]"
            ],
            "application/vnd.jupyter.widget-view+json": {
              "version_major": 2,
              "version_minor": 0,
              "model_id": "93a11f13423f4fb8aa1edd603b7e6c37"
            }
          },
          "metadata": {}
        }
      ]
    },
    {
      "cell_type": "code",
      "source": [
        "batch_size = 12\n",
        "guidance_scale = 8.5\n",
        "\n",
        "image = load_image(\"/content/test_pic/2362842-2.png\")\n",
        "\n",
        "latents = sample_latents(\n",
        "    batch_size=batch_size,\n",
        "    model=model,\n",
        "    diffusion=diffusion,\n",
        "    guidance_scale=guidance_scale,\n",
        "    model_kwargs=dict(images=[image] * batch_size),\n",
        "    progress=True,\n",
        "    clip_denoised=True,\n",
        "    use_fp16=True,\n",
        "    use_karras=True,\n",
        "    karras_steps=64,\n",
        "    sigma_min=1e-3,\n",
        "    sigma_max=160,\n",
        "    s_churn=0,\n",
        ")"
      ],
      "metadata": {
        "colab": {
          "base_uri": "https://localhost:8080/",
          "height": 49,
          "referenced_widgets": [
            "c8cf1be5964944f5ae9131febf8a2ffb",
            "63753b4f7eac4c47971f0ef6a59a3c9c",
            "79c1c8ae8d7d4170979748c77e3dd5ad",
            "8dae1ae2e0464a6098932d28443ac6a7",
            "628ed5fbabc94ed2a2976c50fe326f4f",
            "b99bb3e12eed4f26b1bf366b51be0a6e",
            "0e56935666974cd0b882d3f5607b6309",
            "82b67ce5d0294d9ab0a46a98c9bdf7c7",
            "b29f4e20914d4f6d8e18a5675e6bc6e4",
            "13d2de781a544acbbcbaf71d01ac7a92",
            "1d03764df11846099bc97e1c6d67d08a"
          ]
        },
        "id": "70K-fMJgpoGv",
        "outputId": "3bbddf73-e804-4a75-b71a-ef30177caac9"
      },
      "execution_count": 17,
      "outputs": [
        {
          "output_type": "display_data",
          "data": {
            "text/plain": [
              "  0%|          | 0/64 [00:00<?, ?it/s]"
            ],
            "application/vnd.jupyter.widget-view+json": {
              "version_major": 2,
              "version_minor": 0,
              "model_id": "c8cf1be5964944f5ae9131febf8a2ffb"
            }
          },
          "metadata": {}
        }
      ]
    },
    {
      "cell_type": "code",
      "source": [
        "render_mode = 'stf' # you can change this to 'stf' for mesh rendering\n",
        "size = 128 # this is the size of the renders; higher values take longer to render.\n",
        "\n",
        "cameras = create_pan_cameras(size, device)\n",
        "for i, latent in enumerate(latents):\n",
        "    images = decode_latent_images(xm, latent, cameras, rendering_mode=render_mode)\n",
        "    display(gif_widget(images))"
      ],
      "metadata": {
        "colab": {
          "base_uri": "https://localhost:8080/",
          "height": 1000,
          "referenced_widgets": [
            "e47fc456181c40a9854e68e466652fc4",
            "ffe0421960ea4e3392754e1a281bb476",
            "4cd54ac6453544a1aac5a2f10f98090f",
            "94343d0529214ff68b648f5ffb9a6eb1",
            "8f3c63bd1fb04671bcf40b1c1f555080",
            "163e0e879d1e4f6cac5db4284427654f",
            "f9cef9e646b6400c87519d50ec125793",
            "7cb97b2d533e4a009d27f0c520147038",
            "813f1b93d10948d39137f88c6cfe0f93",
            "3b345b48f87e4adcbff84aa3bd351350",
            "949596bce61f4013ac2f770815553df3",
            "82f34b46e866476e9f81950260ac12db",
            "c2b278d0a80e4b23bf8a2fa5b08d1116",
            "bf51e51b6d724a239ef2243d6cd660d7",
            "321955aca334460eb3e38b7c83865212",
            "ab399786c7904c2a993a74ff41f6e108",
            "6e05f7b9f3dd4d028baacd0a5b0d8cd8",
            "7f4351712a67439c992ceae72ad46c7c"
          ]
        },
        "id": "-YXoDVfvqB5Z",
        "outputId": "673f9372-ea6a-419e-c16b-898d198f5863"
      },
      "execution_count": null,
      "outputs": [
        {
          "output_type": "stream",
          "name": "stderr",
          "text": [
            "/content/shap-e/shap_e/models/stf/renderer.py:286: UserWarning: exception rendering with PyTorch3D: No module named 'pytorch3d'\n",
            "  warnings.warn(f\"exception rendering with PyTorch3D: {exc}\")\n",
            "/content/shap-e/shap_e/models/stf/renderer.py:287: UserWarning: falling back on native PyTorch renderer, which does not support full gradients\n",
            "  warnings.warn(\n"
          ]
        },
        {
          "output_type": "display_data",
          "data": {
            "text/plain": [
              "HTML(value='<img src=\"data:image/gif;base64,R0lGODlhgACAAIQAAAAAADMzAGYzAJlmAGYzM5kzM2ZmM5lmM8xmM2YzZpkzZmZmZp…"
            ],
            "application/vnd.jupyter.widget-view+json": {
              "version_major": 2,
              "version_minor": 0,
              "model_id": "e47fc456181c40a9854e68e466652fc4"
            }
          },
          "metadata": {}
        },
        {
          "output_type": "stream",
          "name": "stderr",
          "text": [
            "/content/shap-e/shap_e/models/stf/renderer.py:286: UserWarning: exception rendering with PyTorch3D: No module named 'pytorch3d'\n",
            "  warnings.warn(f\"exception rendering with PyTorch3D: {exc}\")\n",
            "/content/shap-e/shap_e/models/stf/renderer.py:287: UserWarning: falling back on native PyTorch renderer, which does not support full gradients\n",
            "  warnings.warn(\n"
          ]
        },
        {
          "output_type": "display_data",
          "data": {
            "text/plain": [
              "HTML(value='<img src=\"data:image/gif;base64,R0lGODlhgACAAIQAAAAAADMzAGYzAJkzAGZmADMzM2YzM5kzM2ZmM5lmM2YzZpkzZm…"
            ],
            "application/vnd.jupyter.widget-view+json": {
              "version_major": 2,
              "version_minor": 0,
              "model_id": "94343d0529214ff68b648f5ffb9a6eb1"
            }
          },
          "metadata": {}
        },
        {
          "output_type": "stream",
          "name": "stderr",
          "text": [
            "/content/shap-e/shap_e/models/stf/renderer.py:286: UserWarning: exception rendering with PyTorch3D: No module named 'pytorch3d'\n",
            "  warnings.warn(f\"exception rendering with PyTorch3D: {exc}\")\n",
            "/content/shap-e/shap_e/models/stf/renderer.py:287: UserWarning: falling back on native PyTorch renderer, which does not support full gradients\n",
            "  warnings.warn(\n"
          ]
        },
        {
          "output_type": "display_data",
          "data": {
            "text/plain": [
              "HTML(value='<img src=\"data:image/gif;base64,R0lGODlhgACAAIQAAAAAADMAAGYAADMzAGYzADMzM2YzM5kzM2ZmM5lmM2YzZpkzZm…"
            ],
            "application/vnd.jupyter.widget-view+json": {
              "version_major": 2,
              "version_minor": 0,
              "model_id": "f9cef9e646b6400c87519d50ec125793"
            }
          },
          "metadata": {}
        },
        {
          "output_type": "stream",
          "name": "stderr",
          "text": [
            "/content/shap-e/shap_e/models/stf/renderer.py:286: UserWarning: exception rendering with PyTorch3D: No module named 'pytorch3d'\n",
            "  warnings.warn(f\"exception rendering with PyTorch3D: {exc}\")\n",
            "/content/shap-e/shap_e/models/stf/renderer.py:287: UserWarning: falling back on native PyTorch renderer, which does not support full gradients\n",
            "  warnings.warn(\n"
          ]
        },
        {
          "output_type": "display_data",
          "data": {
            "text/plain": [
              "HTML(value='<img src=\"data:image/gif;base64,R0lGODlhgACAAIQAAAAAADMzAGYzAJkzAGZmAJlmAGYzM5kzM2ZmM5lmM8xmM2YzZp…"
            ],
            "application/vnd.jupyter.widget-view+json": {
              "version_major": 2,
              "version_minor": 0,
              "model_id": "3b345b48f87e4adcbff84aa3bd351350"
            }
          },
          "metadata": {}
        },
        {
          "output_type": "stream",
          "name": "stderr",
          "text": [
            "/content/shap-e/shap_e/models/stf/renderer.py:286: UserWarning: exception rendering with PyTorch3D: No module named 'pytorch3d'\n",
            "  warnings.warn(f\"exception rendering with PyTorch3D: {exc}\")\n",
            "/content/shap-e/shap_e/models/stf/renderer.py:287: UserWarning: falling back on native PyTorch renderer, which does not support full gradients\n",
            "  warnings.warn(\n"
          ]
        },
        {
          "output_type": "display_data",
          "data": {
            "text/plain": [
              "HTML(value='<img src=\"data:image/gif;base64,R0lGODlhgACAAIQAAAAAAGYzAGZmAJlmAGYzM5kzM2ZmM5lmM2YzZpkzZmZmZplmZs…"
            ],
            "application/vnd.jupyter.widget-view+json": {
              "version_major": 2,
              "version_minor": 0,
              "model_id": "c2b278d0a80e4b23bf8a2fa5b08d1116"
            }
          },
          "metadata": {}
        },
        {
          "output_type": "stream",
          "name": "stderr",
          "text": [
            "/content/shap-e/shap_e/models/stf/renderer.py:286: UserWarning: exception rendering with PyTorch3D: No module named 'pytorch3d'\n",
            "  warnings.warn(f\"exception rendering with PyTorch3D: {exc}\")\n",
            "/content/shap-e/shap_e/models/stf/renderer.py:287: UserWarning: falling back on native PyTorch renderer, which does not support full gradients\n",
            "  warnings.warn(\n"
          ]
        },
        {
          "output_type": "display_data",
          "data": {
            "text/plain": [
              "HTML(value='<img src=\"data:image/gif;base64,R0lGODlhgACAAIQAAAAAADMAADMzAGYzADMzM2YzM5kzM2ZmM5lmM2YzZpkzZmZmZp…"
            ],
            "application/vnd.jupyter.widget-view+json": {
              "version_major": 2,
              "version_minor": 0,
              "model_id": "ab399786c7904c2a993a74ff41f6e108"
            }
          },
          "metadata": {}
        },
        {
          "output_type": "stream",
          "name": "stderr",
          "text": [
            "/content/shap-e/shap_e/models/stf/renderer.py:286: UserWarning: exception rendering with PyTorch3D: No module named 'pytorch3d'\n",
            "  warnings.warn(f\"exception rendering with PyTorch3D: {exc}\")\n",
            "/content/shap-e/shap_e/models/stf/renderer.py:287: UserWarning: falling back on native PyTorch renderer, which does not support full gradients\n",
            "  warnings.warn(\n"
          ]
        }
      ]
    },
    {
      "cell_type": "code",
      "source": [
        "# Example of saving the latents as meshes.\n",
        "from shap_e.util.notebooks import decode_latent_mesh\n",
        "\n",
        "for i, latent in enumerate(latents):\n",
        "    t = decode_latent_mesh(xm, latent).tri_mesh()\n",
        "    with open(f'example_mesh_{i}.ply', 'wb') as f:\n",
        "        t.write_ply(f)\n",
        "    with open(f'example_mesh_{i}.obj', 'w') as f:\n",
        "        t.write_obj(f)"
      ],
      "metadata": {
        "colab": {
          "base_uri": "https://localhost:8080/"
        },
        "id": "x3C8SI2gqXPk",
        "outputId": "39c6f165-4351-4a4a-d278-523b14d59e36"
      },
      "execution_count": 10,
      "outputs": [
        {
          "output_type": "stream",
          "name": "stderr",
          "text": [
            "/content/shap-e/shap_e/models/stf/renderer.py:286: UserWarning: exception rendering with PyTorch3D: No module named 'pytorch3d'\n",
            "  warnings.warn(f\"exception rendering with PyTorch3D: {exc}\")\n",
            "/content/shap-e/shap_e/models/stf/renderer.py:287: UserWarning: falling back on native PyTorch renderer, which does not support full gradients\n",
            "  warnings.warn(\n",
            "/content/shap-e/shap_e/models/stf/renderer.py:286: UserWarning: exception rendering with PyTorch3D: No module named 'pytorch3d'\n",
            "  warnings.warn(f\"exception rendering with PyTorch3D: {exc}\")\n",
            "/content/shap-e/shap_e/models/stf/renderer.py:287: UserWarning: falling back on native PyTorch renderer, which does not support full gradients\n",
            "  warnings.warn(\n",
            "/content/shap-e/shap_e/models/stf/renderer.py:286: UserWarning: exception rendering with PyTorch3D: No module named 'pytorch3d'\n",
            "  warnings.warn(f\"exception rendering with PyTorch3D: {exc}\")\n",
            "/content/shap-e/shap_e/models/stf/renderer.py:287: UserWarning: falling back on native PyTorch renderer, which does not support full gradients\n",
            "  warnings.warn(\n",
            "/content/shap-e/shap_e/models/stf/renderer.py:286: UserWarning: exception rendering with PyTorch3D: No module named 'pytorch3d'\n",
            "  warnings.warn(f\"exception rendering with PyTorch3D: {exc}\")\n",
            "/content/shap-e/shap_e/models/stf/renderer.py:287: UserWarning: falling back on native PyTorch renderer, which does not support full gradients\n",
            "  warnings.warn(\n"
          ]
        }
      ]
    }
  ]
}
